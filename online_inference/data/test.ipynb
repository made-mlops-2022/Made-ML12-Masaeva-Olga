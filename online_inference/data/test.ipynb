{
 "cells": [
  {
   "cell_type": "code",
   "execution_count": 7,
   "metadata": {},
   "outputs": [
    {
     "name": "stdout",
     "output_type": "stream",
     "text": [
      "[Schema({'age': 0, 'sex': 0, 'cp': 0, 'chol': 0, 'fbs': 0, 'restecg': 0, 'thalach': 0, 'exang': 0, 'oldpeak': 0, 'slope': 0, 'ca': 0, 'thal': 0})]\n"
     ]
    }
   ],
   "source": [
    "import json\n",
    "from pytest_schema import schema\n",
    "from schemas import Features\n",
    "test =  [{\n",
    "        \"age\":0,\n",
    "        \"sex\": 0,\n",
    "        \"cp\": 0,\n",
    "        \"chol\": 0,\n",
    "        \"fbs\": 0,\n",
    "        \"restecg\": 0,\n",
    "        \"thalach\": 0,\n",
    "        \"exang\": 0,\n",
    "        \"oldpeak\": 0,\n",
    "        \"slope\": 0,\n",
    "        \"ca\": 0,\n",
    "        \"thal\": 0\n",
    "} ]\n",
    "q =  [schema(q) for q in test]\n",
    "print(q)"
   ]
  }
 ],
 "metadata": {
  "kernelspec": {
   "display_name": "Python 3.11.0 64-bit",
   "language": "python",
   "name": "python3"
  },
  "language_info": {
   "codemirror_mode": {
    "name": "ipython",
    "version": 3
   },
   "file_extension": ".py",
   "mimetype": "text/x-python",
   "name": "python",
   "nbconvert_exporter": "python",
   "pygments_lexer": "ipython3",
   "version": "3.11.0"
  },
  "orig_nbformat": 4,
  "vscode": {
   "interpreter": {
    "hash": "de47f5c92c0ee6f12a59a5613ac5feff6aab19ddff207ba0b3964cced08c4ccc"
   }
  }
 },
 "nbformat": 4,
 "nbformat_minor": 2
}
