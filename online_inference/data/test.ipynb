{
 "cells": [
  {
   "cell_type": "code",
   "execution_count": 121,
   "metadata": {},
   "outputs": [],
   "source": [
    "import json\n",
    "from pytest_schema import schema\n",
    "from schemas import Data, Features, Target\n",
    "test = [\n",
    "  {\n",
    "    \"features\": {\n",
    "      \"age\": 0,\n",
    "      \"sex\": 0,\n",
    "      \"cp\": 0,\n",
    "      \"chol\": 0,\n",
    "      \"fbs\": 0,\n",
    "      \"restecg\": 0,\n",
    "      \"thalach\": 0,\n",
    "      \"exang\": 0,\n",
    "      \"oldpeak\": 0,\n",
    "      \"slope\": 0,\n",
    "      \"ca\": 0,\n",
    "      \"thal\": 0\n",
    "    },\n",
    "    \"target\": {\n",
    "      \"condition\": 0\n",
    "    }\n",
    "  }\n",
    "]\n",
    "q =  [Data(features=Features(age=0, sex=0, cp=0, chol=0, fbs=0, restecg=0, thalach=0, exang=0, oldpeak=0.0, slope=0, ca=0, thal=0), target=Target(condition=0))]"
   ]
  },
  {
   "cell_type": "code",
   "execution_count": 122,
   "metadata": {},
   "outputs": [
    {
     "ename": "AttributeError",
     "evalue": "'list' object has no attribute 'dict'",
     "output_type": "error",
     "traceback": [
      "\u001b[1;31m---------------------------------------------------------------------------\u001b[0m",
      "\u001b[1;31mAttributeError\u001b[0m                            Traceback (most recent call last)",
      "Cell \u001b[1;32mIn [122], line 1\u001b[0m\n\u001b[1;32m----> 1\u001b[0m merged \u001b[39m=\u001b[39m {\u001b[39m*\u001b[39m\u001b[39m*\u001b[39mq\u001b[39m.\u001b[39;49mdict()[\u001b[39m'\u001b[39m\u001b[39mfeatures\u001b[39m\u001b[39m'\u001b[39m], \u001b[39m*\u001b[39m\u001b[39m*\u001b[39mq\u001b[39m.\u001b[39mdict()[\u001b[39m'\u001b[39m\u001b[39mtarget\u001b[39m\u001b[39m'\u001b[39m]}\n\u001b[0;32m      2\u001b[0m \u001b[39mprint\u001b[39m(merged)\n",
      "\u001b[1;31mAttributeError\u001b[0m: 'list' object has no attribute 'dict'"
     ]
    }
   ],
   "source": [
    "merged = {**q.dict()['features'], **q.dict()['target']}\n",
    "print(merged)"
   ]
  },
  {
   "cell_type": "code",
   "execution_count": 66,
   "metadata": {},
   "outputs": [],
   "source": [
    "import pandas as pd\n",
    "from fastapi.encoders import jsonable_encoder\n",
    "\n",
    "r  =pd.DataFrame.from_records([merged])"
   ]
  },
  {
   "cell_type": "code",
   "execution_count": 75,
   "metadata": {},
   "outputs": [
    {
     "name": "stdout",
     "output_type": "stream",
     "text": [
      "<class 'pandas.core.frame.DataFrame'>\n",
      "Empty DataFrame\n",
      "Columns: [age, sex, cp, chol, fbs, restecg, thalach, exang, oldpeak, slope, ca, thal, condition]\n",
      "Index: []\n"
     ]
    }
   ],
   "source": [
    "print(type(r))\n",
    "print(r.drop(r['condition']))"
   ]
  },
  {
   "cell_type": "code",
   "execution_count": 78,
   "metadata": {},
   "outputs": [],
   "source": [
    "features_data = r.drop(['condition'],axis=1)\n",
    "target_data = r['condition']\n",
    "        "
   ]
  },
  {
   "cell_type": "code",
   "execution_count": 105,
   "metadata": {},
   "outputs": [],
   "source": [
    "q = r.iloc[[0]]"
   ]
  },
  {
   "cell_type": "code",
   "execution_count": 107,
   "metadata": {},
   "outputs": [
    {
     "data": {
      "text/html": [
       "<div>\n",
       "<style scoped>\n",
       "    .dataframe tbody tr th:only-of-type {\n",
       "        vertical-align: middle;\n",
       "    }\n",
       "\n",
       "    .dataframe tbody tr th {\n",
       "        vertical-align: top;\n",
       "    }\n",
       "\n",
       "    .dataframe thead th {\n",
       "        text-align: right;\n",
       "    }\n",
       "</style>\n",
       "<table border=\"1\" class=\"dataframe\">\n",
       "  <thead>\n",
       "    <tr style=\"text-align: right;\">\n",
       "      <th></th>\n",
       "      <th>age</th>\n",
       "      <th>sex</th>\n",
       "      <th>cp</th>\n",
       "      <th>chol</th>\n",
       "      <th>fbs</th>\n",
       "      <th>restecg</th>\n",
       "      <th>thalach</th>\n",
       "      <th>exang</th>\n",
       "      <th>oldpeak</th>\n",
       "      <th>slope</th>\n",
       "      <th>ca</th>\n",
       "      <th>thal</th>\n",
       "    </tr>\n",
       "  </thead>\n",
       "  <tbody>\n",
       "    <tr>\n",
       "      <th>0</th>\n",
       "      <td>0</td>\n",
       "      <td>0</td>\n",
       "      <td>0</td>\n",
       "      <td>0</td>\n",
       "      <td>0</td>\n",
       "      <td>0</td>\n",
       "      <td>0</td>\n",
       "      <td>0</td>\n",
       "      <td>0.0</td>\n",
       "      <td>0</td>\n",
       "      <td>0</td>\n",
       "      <td>0</td>\n",
       "    </tr>\n",
       "  </tbody>\n",
       "</table>\n",
       "</div>"
      ],
      "text/plain": [
       "   age  sex  cp  chol  fbs  restecg  thalach  exang  oldpeak  slope  ca  thal\n",
       "0    0    0   0     0    0        0        0      0      0.0      0   0     0"
      ]
     },
     "execution_count": 107,
     "metadata": {},
     "output_type": "execute_result"
    }
   ],
   "source": [
    "q.drop(['condition'],axis=1)"
   ]
  },
  {
   "cell_type": "code",
   "execution_count": 109,
   "metadata": {},
   "outputs": [
    {
     "name": "stdout",
     "output_type": "stream",
     "text": [
      "<class 'pandas.core.series.Series'>\n"
     ]
    }
   ],
   "source": [
    "print(type(q['condition']))"
   ]
  },
  {
   "cell_type": "code",
   "execution_count": 114,
   "metadata": {},
   "outputs": [],
   "source": [
    "base_data = pd.read_csv(\"raw/heart_cleveland_upload.csv\")\n",
    "#    synt_data = requests.post( 'http://127.0.0.1:8000/predict', json.dumps(base_data)).json()"
   ]
  },
  {
   "cell_type": "code",
   "execution_count": 118,
   "metadata": {},
   "outputs": [],
   "source": [
    "b = base_data.to_dict(orient='records')"
   ]
  },
  {
   "cell_type": "code",
   "execution_count": 120,
   "metadata": {},
   "outputs": [
    {
     "name": "stdout",
     "output_type": "stream",
     "text": [
      "[{\"age\": 69, \"sex\": 1, \"cp\": 0, \"trestbps\": 160, \"chol\": 234, \"fbs\": 1, \"restecg\": 2, \"thalach\": 131, \"exang\": 0, \"oldpeak\": 0.1, \"slope\": 1, \"ca\": 1, \"thal\": 0, \"condition\": 0}, {\"age\": 69, \"sex\": 0, \"cp\": 0, \"trestbps\": 140, \"chol\": 239, \"fbs\": 0, \"restecg\": 0, \"thalach\": 151, \"exang\": 0, \"oldpeak\": 1.8, \"slope\": 0, \"ca\": 2, \"thal\": 0, \"condition\": 0}, {\"age\": 66, \"sex\": 0, \"cp\": 0, \"trestbps\": 150, \"chol\": 226, \"fbs\": 0, \"restecg\": 0, \"thalach\": 114, \"exang\": 0, \"oldpeak\": 2.6, \"slope\": 2, \"ca\": 0, \"thal\": 0, \"condition\": 0}, {\"age\": 65, \"sex\": 1, \"cp\": 0, \"trestbps\": 138, \"chol\": 282, \"fbs\": 1, \"restecg\": 2, \"thalach\": 174, \"exang\": 0, \"oldpeak\": 1.4, \"slope\": 1, \"ca\": 1, \"thal\": 0, \"condition\": 1}, {\"age\": 64, \"sex\": 1, \"cp\": 0, \"trestbps\": 110, \"chol\": 211, \"fbs\": 0, \"restecg\": 2, \"thalach\": 144, \"exang\": 1, \"oldpeak\": 1.8, \"slope\": 1, \"ca\": 0, \"thal\": 0, \"condition\": 0}, {\"age\": 64, \"sex\": 1, \"cp\": 0, \"trestbps\": 170, \"chol\": 227, \"fbs\": 0, \"restecg\": 2, \"thalach\": 155, \"exang\": 0, \"oldpeak\": 0.6, \"slope\": 1, \"ca\": 0, \"thal\": 2, \"condition\": 0}, {\"age\": 63, \"sex\": 1, \"cp\": 0, \"trestbps\": 145, \"chol\": 233, \"fbs\": 1, \"restecg\": 2, \"thalach\": 150, \"exang\": 0, \"oldpeak\": 2.3, \"slope\": 2, \"ca\": 0, \"thal\": 1, \"condition\": 0}, {\"age\": 61, \"sex\": 1, \"cp\": 0, \"trestbps\": 134, \"chol\": 234, \"fbs\": 0, \"restecg\": 0, \"thalach\": 145, \"exang\": 0, \"oldpeak\": 2.6, \"slope\": 1, \"ca\": 2, \"thal\": 0, \"condition\": 1}, {\"age\": 60, \"sex\": 0, \"cp\": 0, \"trestbps\": 150, \"chol\": 240, \"fbs\": 0, \"restecg\": 0, \"thalach\": 171, \"exang\": 0, \"oldpeak\": 0.9, \"slope\": 0, \"ca\": 0, \"thal\": 0, \"condition\": 0}, {\"age\": 59, \"sex\": 1, \"cp\": 0, \"trestbps\": 178, \"chol\": 270, \"fbs\": 0, \"restecg\": 2, \"thalach\": 145, \"exang\": 0, \"oldpeak\": 4.2, \"slope\": 2, \"ca\": 0, \"thal\": 2, \"condition\": 0}, {\"age\": 59, \"sex\": 1, \"cp\": 0, \"trestbps\": 170, \"chol\": 288, \"fbs\": 0, \"restecg\": 2, \"thalach\": 159, \"exang\": 0, \"oldpeak\": 0.2, \"slope\": 1, \"ca\": 0, \"thal\": 2, \"condition\": 1}, {\"age\": 59, \"sex\": 1, \"cp\": 0, \"trestbps\": 160, \"chol\": 273, \"fbs\": 0, \"restecg\": 2, \"thalach\": 125, \"exang\": 0, \"oldpeak\": 0.0, \"slope\": 0, \"ca\": 0, \"thal\": 0, \"condition\": 1}, {\"age\": 59, \"sex\": 1, \"cp\": 0, \"trestbps\": 134, \"chol\": 204, \"fbs\": 0, \"restecg\": 0, \"thalach\": 162, \"exang\": 0, \"oldpeak\": 0.8, \"slope\": 0, \"ca\": 2, \"thal\": 0, \"condition\": 1}, {\"age\": 58, \"sex\": 0, \"cp\": 0, \"trestbps\": 150, \"chol\": 283, \"fbs\": 1, \"restecg\": 2, \"thalach\": 162, \"exang\": 0, \"oldpeak\": 1.0, \"slope\": 0, \"ca\": 0, \"thal\": 0, \"condition\": 0}, {\"age\": 56, \"sex\": 1, \"cp\": 0, \"trestbps\": 120, \"chol\": 193, \"fbs\": 0, \"restecg\": 2, \"thalach\": 162, \"exang\": 0, \"oldpeak\": 1.9, \"slope\": 1, \"ca\": 0, \"thal\": 2, \"condition\": 0}, {\"age\": 52, \"sex\": 1, \"cp\": 0, \"trestbps\": 118, \"chol\": 186, \"fbs\": 0, \"restecg\": 2, \"thalach\": 190, \"exang\": 0, \"oldpeak\": 0.0, \"slope\": 1, \"ca\": 0, \"thal\": 1, \"condition\": 0}, {\"age\": 52, \"sex\": 1, \"cp\": 0, \"trestbps\": 152, \"chol\": 298, \"fbs\": 1, \"restecg\": 0, \"thalach\": 178, \"exang\": 0, \"oldpeak\": 1.2, \"slope\": 1, \"ca\": 0, \"thal\": 2, \"condition\": 0}, {\"age\": 51, \"sex\": 1, \"cp\": 0, \"trestbps\": 125, \"chol\": 213, \"fbs\": 0, \"restecg\": 2, \"thalach\": 125, \"exang\": 1, \"oldpeak\": 1.4, \"slope\": 0, \"ca\": 1, \"thal\": 0, \"condition\": 0}, {\"age\": 45, \"sex\": 1, \"cp\": 0, \"trestbps\": 110, \"chol\": 264, \"fbs\": 0, \"restecg\": 0, \"thalach\": 132, \"exang\": 0, \"oldpeak\": 1.2, \"slope\": 1, \"ca\": 0, \"thal\": 2, \"condition\": 1}, {\"age\": 42, \"sex\": 1, \"cp\": 0, \"trestbps\": 148, \"chol\": 244, \"fbs\": 0, \"restecg\": 2, \"thalach\": 178, \"exang\": 0, \"oldpeak\": 0.8, \"slope\": 0, \"ca\": 2, \"thal\": 0, \"condition\": 0}, {\"age\": 40, \"sex\": 1, \"cp\": 0, \"trestbps\": 140, \"chol\": 199, \"fbs\": 0, \"restecg\": 0, \"thalach\": 178, \"exang\": 1, \"oldpeak\": 1.4, \"slope\": 0, \"ca\": 0, \"thal\": 2, \"condition\": 0}, {\"age\": 38, \"sex\": 1, \"cp\": 0, \"trestbps\": 120, \"chol\": 231, \"fbs\": 0, \"restecg\": 0, \"thalach\": 182, \"exang\": 1, \"oldpeak\": 3.8, \"slope\": 1, \"ca\": 0, \"thal\": 2, \"condition\": 1}, {\"age\": 34, \"sex\": 1, \"cp\": 0, \"trestbps\": 118, \"chol\": 182, \"fbs\": 0, \"restecg\": 2, \"thalach\": 174, \"exang\": 0, \"oldpeak\": 0.0, \"slope\": 0, \"ca\": 0, \"thal\": 0, \"condition\": 0}, {\"age\": 74, \"sex\": 0, \"cp\": 1, \"trestbps\": 120, \"chol\": 269, \"fbs\": 0, \"restecg\": 2, \"thalach\": 121, \"exang\": 1, \"oldpeak\": 0.2, \"slope\": 0, \"ca\": 1, \"thal\": 0, \"condition\": 0}, {\"age\": 71, \"sex\": 0, \"cp\": 1, \"trestbps\": 160, \"chol\": 302, \"fbs\": 0, \"restecg\": 0, \"thalach\": 162, \"exang\": 0, \"oldpeak\": 0.4, \"slope\": 0, \"ca\": 2, \"thal\": 0, \"condition\": 0}, {\"age\": 70, \"sex\": 1, \"cp\": 1, \"trestbps\": 156, \"chol\": 245, \"fbs\": 0, \"restecg\": 2, \"thalach\": 143, \"exang\": 0, \"oldpeak\": 0.0, \"slope\": 0, \"ca\": 0, \"thal\": 0, \"condition\": 0}, {\"age\": 66, \"sex\": 1, \"cp\": 1, \"trestbps\": 160, \"chol\": 246, \"fbs\": 0, \"restecg\": 0, \"thalach\": 120, \"exang\": 1, \"oldpeak\": 0.0, \"slope\": 1, \"ca\": 3, \"thal\": 1, \"condition\": 1}, {\"age\": 63, \"sex\": 0, \"cp\": 1, \"trestbps\": 140, \"chol\": 195, \"fbs\": 0, \"restecg\": 0, \"thalach\": 179, \"exang\": 0, \"oldpeak\": 0.0, \"slope\": 0, \"ca\": 2, \"thal\": 0, \"condition\": 0}, {\"age\": 62, \"sex\": 1, \"cp\": 1, \"trestbps\": 120, \"chol\": 281, \"fbs\": 0, \"restecg\": 2, \"thalach\": 103, \"exang\": 0, \"oldpeak\": 1.4, \"slope\": 1, \"ca\": 1, \"thal\": 2, \"condition\": 1}, {\"age\": 62, \"sex\": 1, \"cp\": 1, \"trestbps\": 128, \"chol\": 208, \"fbs\": 1, \"restecg\": 2, \"thalach\": 140, \"exang\": 0, \"oldpeak\": 0.0, \"slope\": 0, \"ca\": 0, \"thal\": 0, \"condition\": 0}, {\"age\": 59, \"sex\": 1, \"cp\": 1, \"trestbps\": 140, \"chol\": 221, \"fbs\": 0, \"restecg\": 0, \"thalach\": 164, \"exang\": 1, \"oldpeak\": 0.0, \"slope\": 0, \"ca\": 0, \"thal\": 0, \"condition\": 0}, {\"age\": 58, \"sex\": 1, \"cp\": 1, \"trestbps\": 120, \"chol\": 284, \"fbs\": 0, \"restecg\": 2, \"thalach\": 160, \"exang\": 0, \"oldpeak\": 1.8, \"slope\": 1, \"ca\": 0, \"thal\": 0, \"condition\": 1}, {\"age\": 58, \"sex\": 0, \"cp\": 1, \"trestbps\": 136, \"chol\": 319, \"fbs\": 1, \"restecg\": 2, \"thalach\": 152, \"exang\": 0, \"oldpeak\": 0.0, \"slope\": 0, \"ca\": 2, \"thal\": 0, \"condition\": 1}, {\"age\": 57, \"sex\": 0, \"cp\": 1, \"trestbps\": 130, \"chol\": 236, \"fbs\": 0, \"restecg\": 2, \"thalach\": 174, \"exang\": 0, \"oldpeak\": 0.0, \"slope\": 1, \"ca\": 1, \"thal\": 0, \"condition\": 1}, {\"age\": 57, \"sex\": 1, \"cp\": 1, \"trestbps\": 124, \"chol\": 261, \"fbs\": 0, \"restecg\": 0, \"thalach\": 141, \"exang\": 0, \"oldpeak\": 0.3, \"slope\": 0, \"ca\": 0, \"thal\": 2, \"condition\": 1}, {\"age\": 57, \"sex\": 1, \"cp\": 1, \"trestbps\": 154, \"chol\": 232, \"fbs\": 0, \"restecg\": 2, \"thalach\": 164, \"exang\": 0, \"oldpeak\": 0.0, \"slope\": 0, \"ca\": 1, \"thal\": 0, \"condition\": 1}, {\"age\": 56, \"sex\": 1, \"cp\": 1, \"trestbps\": 120, \"chol\": 240, \"fbs\": 0, \"restecg\": 0, \"thalach\": 169, \"exang\": 0, \"oldpeak\": 0.0, \"slope\": 2, \"ca\": 0, \"thal\": 0, \"condition\": 0}, {\"age\": 56, \"sex\": 0, \"cp\": 1, \"trestbps\": 140, \"chol\": 294, \"fbs\": 0, \"restecg\": 2, \"thalach\": 153, \"exang\": 0, \"oldpeak\": 1.3, \"slope\": 1, \"ca\": 0, \"thal\": 0, \"condition\": 0}, {\"age\": 56, \"sex\": 1, \"cp\": 1, \"trestbps\": 120, \"chol\": 236, \"fbs\": 0, \"restecg\": 0, \"thalach\": 178, \"exang\": 0, \"oldpeak\": 0.8, \"slope\": 0, \"ca\": 0, \"thal\": 0, \"condition\": 0}, {\"age\": 56, \"sex\": 1, \"cp\": 1, \"trestbps\": 130, \"chol\": 221, \"fbs\": 0, \"restecg\": 2, \"thalach\": 163, \"exang\": 0, \"oldpeak\": 0.0, \"slope\": 0, \"ca\": 0, \"thal\": 2, \"condition\": 0}, {\"age\": 55, \"sex\": 0, \"cp\": 1, \"trestbps\": 135, \"chol\": 250, \"fbs\": 0, \"restecg\": 2, \"thalach\": 161, \"exang\": 0, \"oldpeak\": 1.4, \"slope\": 1, \"ca\": 0, \"thal\": 0, \"condition\": 0}, {\"age\": 55, \"sex\": 1, \"cp\": 1, \"trestbps\": 130, \"chol\": 262, \"fbs\": 0, \"restecg\": 0, \"thalach\": 155, \"exang\": 0, \"oldpeak\": 0.0, \"slope\": 0, \"ca\": 0, \"thal\": 0, \"condition\": 0}, {\"age\": 55, \"sex\": 0, \"cp\": 1, \"trestbps\": 132, \"chol\": 342, \"fbs\": 0, \"restecg\": 0, \"thalach\": 166, \"exang\": 0, \"oldpeak\": 1.2, \"slope\": 0, \"ca\": 0, \"thal\": 0, \"condition\": 0}, {\"age\": 54, \"sex\": 1, \"cp\": 1, \"trestbps\": 108, \"chol\": 309, \"fbs\": 0, \"restecg\": 0, \"thalach\": 156, \"exang\": 0, \"oldpeak\": 0.0, \"slope\": 0, \"ca\": 0, \"thal\": 2, \"condition\": 0}, {\"age\": 54, \"sex\": 0, \"cp\": 1, \"trestbps\": 132, \"chol\": 288, \"fbs\": 1, \"restecg\": 2, \"thalach\": 159, \"exang\": 1, \"oldpeak\": 0.0, \"slope\": 0, \"ca\": 1, \"thal\": 0, \"condition\": 0}, {\"age\": 54, \"sex\": 1, \"cp\": 1, \"trestbps\": 192, \"chol\": 283, \"fbs\": 0, \"restecg\": 2, \"thalach\": 195, \"exang\": 0, \"oldpeak\": 0.0, \"slope\": 0, \"ca\": 1, \"thal\": 2, \"condition\": 1}, {\"age\": 52, \"sex\": 1, \"cp\": 1, \"trestbps\": 120, \"chol\": 325, \"fbs\": 0, \"restecg\": 0, \"thalach\": 172, \"exang\": 0, \"oldpeak\": 0.2, \"slope\": 0, \"ca\": 0, \"thal\": 0, \"condition\": 0}, {\"age\": 52, \"sex\": 1, \"cp\": 1, \"trestbps\": 134, \"chol\": 201, \"fbs\": 0, \"restecg\": 0, \"thalach\": 158, \"exang\": 0, \"oldpeak\": 0.8, \"slope\": 0, \"ca\": 1, \"thal\": 0, \"condition\": 0}, {\"age\": 52, \"sex\": 1, \"cp\": 1, \"trestbps\": 128, \"chol\": 205, \"fbs\": 1, \"restecg\": 0, \"thalach\": 184, \"exang\": 0, \"oldpeak\": 0.0, \"slope\": 0, \"ca\": 0, \"thal\": 0, \"condition\": 0}, {\"age\": 50, \"sex\": 0, \"cp\": 1, \"trestbps\": 120, \"chol\": 244, \"fbs\": 0, \"restecg\": 0, \"thalach\": 162, \"exang\": 0, \"oldpeak\": 1.1, \"slope\": 0, \"ca\": 0, \"thal\": 0, \"condition\": 0}, {\"age\": 49, \"sex\": 0, \"cp\": 1, \"trestbps\": 134, \"chol\": 271, \"fbs\": 0, \"restecg\": 0, \"thalach\": 162, \"exang\": 0, \"oldpeak\": 0.0, \"slope\": 1, \"ca\": 0, \"thal\": 0, \"condition\": 0}, {\"age\": 49, \"sex\": 1, \"cp\": 1, \"trestbps\": 130, \"chol\": 266, \"fbs\": 0, \"restecg\": 0, \"thalach\": 171, \"exang\": 0, \"oldpeak\": 0.6, \"slope\": 0, \"ca\": 0, \"thal\": 0, \"condition\": 0}, {\"age\": 48, \"sex\": 1, \"cp\": 1, \"trestbps\": 110, \"chol\": 229, \"fbs\": 0, \"restecg\": 0, \"thalach\": 168, \"exang\": 0, \"oldpeak\": 1.0, \"slope\": 2, \"ca\": 0, \"thal\": 2, \"condition\": 1}, {\"age\": 48, \"sex\": 1, \"cp\": 1, \"trestbps\": 130, \"chol\": 245, \"fbs\": 0, \"restecg\": 2, \"thalach\": 180, \"exang\": 0, \"oldpeak\": 0.2, \"slope\": 1, \"ca\": 0, \"thal\": 0, \"condition\": 0}, {\"age\": 46, \"sex\": 1, \"cp\": 1, \"trestbps\": 101, \"chol\": 197, \"fbs\": 1, \"restecg\": 0, \"thalach\": 156, \"exang\": 0, \"oldpeak\": 0.0, \"slope\": 0, \"ca\": 0, \"thal\": 2, \"condition\": 0}, {\"age\": 46, \"sex\": 0, \"cp\": 1, \"trestbps\": 105, \"chol\": 204, \"fbs\": 0, \"restecg\": 0, \"thalach\": 172, \"exang\": 0, \"oldpeak\": 0.0, \"slope\": 0, \"ca\": 0, \"thal\": 0, \"condition\": 0}, {\"age\": 45, \"sex\": 0, \"cp\": 1, \"trestbps\": 130, \"chol\": 234, \"fbs\": 0, \"restecg\": 2, \"thalach\": 175, \"exang\": 0, \"oldpeak\": 0.6, \"slope\": 1, \"ca\": 0, \"thal\": 0, \"condition\": 0}, {\"age\": 45, \"sex\": 0, \"cp\": 1, \"trestbps\": 112, \"chol\": 160, \"fbs\": 0, \"restecg\": 0, \"thalach\": 138, \"exang\": 0, \"oldpeak\": 0.0, \"slope\": 1, \"ca\": 0, \"thal\": 0, \"condition\": 0}, {\"age\": 45, \"sex\": 1, \"cp\": 1, \"trestbps\": 128, \"chol\": 308, \"fbs\": 0, \"restecg\": 2, \"thalach\": 170, \"exang\": 0, \"oldpeak\": 0.0, \"slope\": 0, \"ca\": 0, \"thal\": 0, \"condition\": 0}, {\"age\": 44, \"sex\": 1, \"cp\": 1, \"trestbps\": 120, \"chol\": 263, \"fbs\": 0, \"restecg\": 0, \"thalach\": 173, \"exang\": 0, \"oldpeak\": 0.0, \"slope\": 0, \"ca\": 0, \"thal\": 2, \"condition\": 0}, {\"age\": 44, \"sex\": 1, \"cp\": 1, \"trestbps\": 130, \"chol\": 219, \"fbs\": 0, \"restecg\": 2, \"thalach\": 188, \"exang\": 0, \"oldpeak\": 0.0, \"slope\": 0, \"ca\": 0, \"thal\": 0, \"condition\": 0}, {\"age\": 44, \"sex\": 1, \"cp\": 1, \"trestbps\": 120, \"chol\": 220, \"fbs\": 0, \"restecg\": 0, \"thalach\": 170, \"exang\": 0, \"oldpeak\": 0.0, \"slope\": 0, \"ca\": 0, \"thal\": 0, \"condition\": 0}, {\"age\": 42, \"sex\": 1, \"cp\": 1, \"trestbps\": 120, \"chol\": 295, \"fbs\": 0, \"restecg\": 0, \"thalach\": 162, \"exang\": 0, \"oldpeak\": 0.0, \"slope\": 0, \"ca\": 0, \"thal\": 0, \"condition\": 0}, {\"age\": 41, \"sex\": 1, \"cp\": 1, \"trestbps\": 135, \"chol\": 203, \"fbs\": 0, \"restecg\": 0, \"thalach\": 132, \"exang\": 0, \"oldpeak\": 0.0, \"slope\": 1, \"ca\": 0, \"thal\": 1, \"condition\": 0}, {\"age\": 41, \"sex\": 0, \"cp\": 1, \"trestbps\": 130, \"chol\": 204, \"fbs\": 0, \"restecg\": 2, \"thalach\": 172, \"exang\": 0, \"oldpeak\": 1.4, \"slope\": 0, \"ca\": 0, \"thal\": 0, \"condition\": 0}, {\"age\": 41, \"sex\": 0, \"cp\": 1, \"trestbps\": 105, \"chol\": 198, \"fbs\": 0, \"restecg\": 0, \"thalach\": 168, \"exang\": 0, \"oldpeak\": 0.0, \"slope\": 0, \"ca\": 1, \"thal\": 0, \"condition\": 0}, {\"age\": 41, \"sex\": 1, \"cp\": 1, \"trestbps\": 110, \"chol\": 235, \"fbs\": 0, \"restecg\": 0, \"thalach\": 153, \"exang\": 0, \"oldpeak\": 0.0, \"slope\": 0, \"ca\": 0, \"thal\": 0, \"condition\": 0}, {\"age\": 41, \"sex\": 0, \"cp\": 1, \"trestbps\": 126, \"chol\": 306, \"fbs\": 0, \"restecg\": 0, \"thalach\": 163, \"exang\": 0, \"oldpeak\": 0.0, \"slope\": 0, \"ca\": 0, \"thal\": 0, \"condition\": 0}, {\"age\": 41, \"sex\": 1, \"cp\": 1, \"trestbps\": 120, \"chol\": 157, \"fbs\": 0, \"restecg\": 0, \"thalach\": 182, \"exang\": 0, \"oldpeak\": 0.0, \"slope\": 0, \"ca\": 0, \"thal\": 0, \"condition\": 0}, {\"age\": 35, \"sex\": 1, \"cp\": 1, \"trestbps\": 122, \"chol\": 192, \"fbs\": 0, \"restecg\": 0, \"thalach\": 174, \"exang\": 0, \"oldpeak\": 0.0, \"slope\": 0, \"ca\": 0, \"thal\": 0, \"condition\": 0}, {\"age\": 34, \"sex\": 0, \"cp\": 1, \"trestbps\": 118, \"chol\": 210, \"fbs\": 0, \"restecg\": 0, \"thalach\": 192, \"exang\": 0, \"oldpeak\": 0.7, \"slope\": 0, \"ca\": 0, \"thal\": 0, \"condition\": 0}, {\"age\": 29, \"sex\": 1, \"cp\": 1, \"trestbps\": 130, \"chol\": 204, \"fbs\": 0, \"restecg\": 2, \"thalach\": 202, \"exang\": 0, \"oldpeak\": 0.0, \"slope\": 0, \"ca\": 0, \"thal\": 0, \"condition\": 0}, {\"age\": 76, \"sex\": 0, \"cp\": 2, \"trestbps\": 140, \"chol\": 197, \"fbs\": 0, \"restecg\": 1, \"thalach\": 116, \"exang\": 0, \"oldpeak\": 1.1, \"slope\": 1, \"ca\": 0, \"thal\": 0, \"condition\": 0}, {\"age\": 71, \"sex\": 0, \"cp\": 2, \"trestbps\": 110, \"chol\": 265, \"fbs\": 1, \"restecg\": 2, \"thalach\": 130, \"exang\": 0, \"oldpeak\": 0.0, \"slope\": 0, \"ca\": 1, \"thal\": 0, \"condition\": 0}, {\"age\": 70, \"sex\": 1, \"cp\": 2, \"trestbps\": 160, \"chol\": 269, \"fbs\": 0, \"restecg\": 0, \"thalach\": 112, \"exang\": 1, \"oldpeak\": 2.9, \"slope\": 1, \"ca\": 1, \"thal\": 2, \"condition\": 1}, {\"age\": 69, \"sex\": 1, \"cp\": 2, \"trestbps\": 140, \"chol\": 254, \"fbs\": 0, \"restecg\": 2, \"thalach\": 146, \"exang\": 0, \"oldpeak\": 2.0, \"slope\": 1, \"ca\": 3, \"thal\": 2, \"condition\": 1}, {\"age\": 68, \"sex\": 1, \"cp\": 2, \"trestbps\": 180, \"chol\": 274, \"fbs\": 1, \"restecg\": 2, \"thalach\": 150, \"exang\": 1, \"oldpeak\": 1.6, \"slope\": 1, \"ca\": 0, \"thal\": 2, \"condition\": 1}, {\"age\": 68, \"sex\": 0, \"cp\": 2, \"trestbps\": 120, \"chol\": 211, \"fbs\": 0, \"restecg\": 2, \"thalach\": 115, \"exang\": 0, \"oldpeak\": 1.5, \"slope\": 1, \"ca\": 0, \"thal\": 0, \"condition\": 0}, {\"age\": 68, \"sex\": 1, \"cp\": 2, \"trestbps\": 118, \"chol\": 277, \"fbs\": 0, \"restecg\": 0, \"thalach\": 151, \"exang\": 0, \"oldpeak\": 1.0, \"slope\": 0, \"ca\": 1, \"thal\": 2, \"condition\": 0}, {\"age\": 67, \"sex\": 0, \"cp\": 2, \"trestbps\": 115, \"chol\": 564, \"fbs\": 0, \"restecg\": 2, \"thalach\": 160, \"exang\": 0, \"oldpeak\": 1.6, \"slope\": 1, \"ca\": 0, \"thal\": 2, \"condition\": 0}, {\"age\": 67, \"sex\": 1, \"cp\": 2, \"trestbps\": 152, \"chol\": 212, \"fbs\": 0, \"restecg\": 2, \"thalach\": 150, \"exang\": 0, \"oldpeak\": 0.8, \"slope\": 1, \"ca\": 0, \"thal\": 2, \"condition\": 1}, {\"age\": 67, \"sex\": 0, \"cp\": 2, \"trestbps\": 152, \"chol\": 277, \"fbs\": 0, \"restecg\": 0, \"thalach\": 172, \"exang\": 0, \"oldpeak\": 0.0, \"slope\": 0, \"ca\": 1, \"thal\": 0, \"condition\": 0}, {\"age\": 66, \"sex\": 0, \"cp\": 2, \"trestbps\": 146, \"chol\": 278, \"fbs\": 0, \"restecg\": 2, \"thalach\": 152, \"exang\": 0, \"oldpeak\": 0.0, \"slope\": 1, \"ca\": 1, \"thal\": 0, \"condition\": 0}, {\"age\": 65, \"sex\": 0, \"cp\": 2, \"trestbps\": 140, \"chol\": 417, \"fbs\": 1, \"restecg\": 2, \"thalach\": 157, \"exang\": 0, \"oldpeak\": 0.8, \"slope\": 0, \"ca\": 1, \"thal\": 0, \"condition\": 0}, {\"age\": 65, \"sex\": 0, \"cp\": 2, \"trestbps\": 155, \"chol\": 269, \"fbs\": 0, \"restecg\": 0, \"thalach\": 148, \"exang\": 0, \"oldpeak\": 0.8, \"slope\": 0, \"ca\": 0, \"thal\": 0, \"condition\": 0}, {\"age\": 65, \"sex\": 0, \"cp\": 2, \"trestbps\": 160, \"chol\": 360, \"fbs\": 0, \"restecg\": 2, \"thalach\": 151, \"exang\": 0, \"oldpeak\": 0.8, \"slope\": 0, \"ca\": 0, \"thal\": 0, \"condition\": 0}, {\"age\": 64, \"sex\": 1, \"cp\": 2, \"trestbps\": 125, \"chol\": 309, \"fbs\": 0, \"restecg\": 0, \"thalach\": 131, \"exang\": 1, \"oldpeak\": 1.8, \"slope\": 1, \"ca\": 0, \"thal\": 2, \"condition\": 1}, {\"age\": 64, \"sex\": 1, \"cp\": 2, \"trestbps\": 140, \"chol\": 335, \"fbs\": 0, \"restecg\": 0, \"thalach\": 158, \"exang\": 0, \"oldpeak\": 0.0, \"slope\": 0, \"ca\": 0, \"thal\": 0, \"condition\": 1}, {\"age\": 64, \"sex\": 0, \"cp\": 2, \"trestbps\": 140, \"chol\": 313, \"fbs\": 0, \"restecg\": 0, \"thalach\": 133, \"exang\": 0, \"oldpeak\": 0.2, \"slope\": 0, \"ca\": 0, \"thal\": 2, \"condition\": 0}, {\"age\": 63, \"sex\": 0, \"cp\": 2, \"trestbps\": 135, \"chol\": 252, \"fbs\": 0, \"restecg\": 2, \"thalach\": 172, \"exang\": 0, \"oldpeak\": 0.0, \"slope\": 0, \"ca\": 0, \"thal\": 0, \"condition\": 0}, {\"age\": 62, \"sex\": 1, \"cp\": 2, \"trestbps\": 130, \"chol\": 231, \"fbs\": 0, \"restecg\": 0, \"thalach\": 146, \"exang\": 0, \"oldpeak\": 1.8, \"slope\": 1, \"ca\": 3, \"thal\": 2, \"condition\": 0}, {\"age\": 62, \"sex\": 0, \"cp\": 2, \"trestbps\": 130, \"chol\": 263, \"fbs\": 0, \"restecg\": 0, \"thalach\": 97, \"exang\": 0, \"oldpeak\": 1.2, \"slope\": 1, \"ca\": 1, \"thal\": 2, \"condition\": 1}, {\"age\": 61, \"sex\": 1, \"cp\": 2, \"trestbps\": 150, \"chol\": 243, \"fbs\": 1, \"restecg\": 0, \"thalach\": 137, \"exang\": 1, \"oldpeak\": 1.0, \"slope\": 1, \"ca\": 0, \"thal\": 0, \"condition\": 0}, {\"age\": 60, \"sex\": 1, \"cp\": 2, \"trestbps\": 140, \"chol\": 185, \"fbs\": 0, \"restecg\": 2, \"thalach\": 155, \"exang\": 0, \"oldpeak\": 3.0, \"slope\": 1, \"ca\": 0, \"thal\": 0, \"condition\": 1}, {\"age\": 60, \"sex\": 0, \"cp\": 2, \"trestbps\": 102, \"chol\": 318, \"fbs\": 0, \"restecg\": 0, \"thalach\": 160, \"exang\": 0, \"oldpeak\": 0.0, \"slope\": 0, \"ca\": 1, \"thal\": 0, \"condition\": 0}, {\"age\": 60, \"sex\": 0, \"cp\": 2, \"trestbps\": 120, \"chol\": 178, \"fbs\": 1, \"restecg\": 0, \"thalach\": 96, \"exang\": 0, \"oldpeak\": 0.0, \"slope\": 0, \"ca\": 0, \"thal\": 0, \"condition\": 0}, {\"age\": 59, \"sex\": 1, \"cp\": 2, \"trestbps\": 126, \"chol\": 218, \"fbs\": 1, \"restecg\": 0, \"thalach\": 134, \"exang\": 0, \"oldpeak\": 2.2, \"slope\": 1, \"ca\": 1, \"thal\": 1, \"condition\": 1}, {\"age\": 59, \"sex\": 1, \"cp\": 2, \"trestbps\": 150, \"chol\": 212, \"fbs\": 1, \"restecg\": 0, \"thalach\": 157, \"exang\": 0, \"oldpeak\": 1.6, \"slope\": 0, \"ca\": 0, \"thal\": 0, \"condition\": 0}, {\"age\": 58, \"sex\": 1, \"cp\": 2, \"trestbps\": 112, \"chol\": 230, \"fbs\": 0, \"restecg\": 2, \"thalach\": 165, \"exang\": 0, \"oldpeak\": 2.5, \"slope\": 1, \"ca\": 1, \"thal\": 2, \"condition\": 1}, {\"age\": 58, \"sex\": 1, \"cp\": 2, \"trestbps\": 105, \"chol\": 240, \"fbs\": 0, \"restecg\": 2, \"thalach\": 154, \"exang\": 1, \"oldpeak\": 0.6, \"slope\": 1, \"ca\": 0, \"thal\": 2, \"condition\": 0}, {\"age\": 58, \"sex\": 1, \"cp\": 2, \"trestbps\": 132, \"chol\": 224, \"fbs\": 0, \"restecg\": 2, \"thalach\": 173, \"exang\": 0, \"oldpeak\": 3.2, \"slope\": 0, \"ca\": 2, \"thal\": 2, \"condition\": 1}, {\"age\": 58, \"sex\": 0, \"cp\": 2, \"trestbps\": 120, \"chol\": 340, \"fbs\": 0, \"restecg\": 0, \"thalach\": 172, \"exang\": 0, \"oldpeak\": 0.0, \"slope\": 0, \"ca\": 0, \"thal\": 0, \"condition\": 0}, {\"age\": 58, \"sex\": 1, \"cp\": 2, \"trestbps\": 140, \"chol\": 211, \"fbs\": 1, \"restecg\": 2, \"thalach\": 165, \"exang\": 0, \"oldpeak\": 0.0, \"slope\": 0, \"ca\": 0, \"thal\": 0, \"condition\": 0}, {\"age\": 57, \"sex\": 1, \"cp\": 2, \"trestbps\": 128, \"chol\": 229, \"fbs\": 0, \"restecg\": 2, \"thalach\": 150, \"exang\": 0, \"oldpeak\": 0.4, \"slope\": 1, \"ca\": 1, \"thal\": 2, \"condition\": 1}, {\"age\": 57, \"sex\": 1, \"cp\": 2, \"trestbps\": 150, \"chol\": 168, \"fbs\": 0, \"restecg\": 0, \"thalach\": 174, \"exang\": 0, \"oldpeak\": 1.6, \"slope\": 0, \"ca\": 0, \"thal\": 0, \"condition\": 0}, {\"age\": 57, \"sex\": 1, \"cp\": 2, \"trestbps\": 150, \"chol\": 126, \"fbs\": 1, \"restecg\": 0, \"thalach\": 173, \"exang\": 0, \"oldpeak\": 0.2, \"slope\": 0, \"ca\": 1, \"thal\": 2, \"condition\": 0}, {\"age\": 56, \"sex\": 1, \"cp\": 2, \"trestbps\": 130, \"chol\": 256, \"fbs\": 1, \"restecg\": 2, \"thalach\": 142, \"exang\": 1, \"oldpeak\": 0.6, \"slope\": 1, \"ca\": 1, \"thal\": 1, \"condition\": 1}, {\"age\": 54, \"sex\": 1, \"cp\": 2, \"trestbps\": 125, \"chol\": 273, \"fbs\": 0, \"restecg\": 2, \"thalach\": 152, \"exang\": 0, \"oldpeak\": 0.5, \"slope\": 2, \"ca\": 1, \"thal\": 0, \"condition\": 0}, {\"age\": 54, \"sex\": 1, \"cp\": 2, \"trestbps\": 120, \"chol\": 258, \"fbs\": 0, \"restecg\": 2, \"thalach\": 147, \"exang\": 0, \"oldpeak\": 0.4, \"slope\": 1, \"ca\": 0, \"thal\": 2, \"condition\": 0}, {\"age\": 54, \"sex\": 0, \"cp\": 2, \"trestbps\": 110, \"chol\": 214, \"fbs\": 0, \"restecg\": 0, \"thalach\": 158, \"exang\": 0, \"oldpeak\": 1.6, \"slope\": 1, \"ca\": 0, \"thal\": 0, \"condition\": 0}, {\"age\": 54, \"sex\": 0, \"cp\": 2, \"trestbps\": 135, \"chol\": 304, \"fbs\": 1, \"restecg\": 0, \"thalach\": 170, \"exang\": 0, \"oldpeak\": 0.0, \"slope\": 0, \"ca\": 0, \"thal\": 0, \"condition\": 0}, {\"age\": 54, \"sex\": 1, \"cp\": 2, \"trestbps\": 150, \"chol\": 232, \"fbs\": 0, \"restecg\": 2, \"thalach\": 165, \"exang\": 0, \"oldpeak\": 1.6, \"slope\": 0, \"ca\": 0, \"thal\": 2, \"condition\": 0}, {\"age\": 54, \"sex\": 0, \"cp\": 2, \"trestbps\": 108, \"chol\": 267, \"fbs\": 0, \"restecg\": 2, \"thalach\": 167, \"exang\": 0, \"oldpeak\": 0.0, \"slope\": 0, \"ca\": 0, \"thal\": 0, \"condition\": 0}, {\"age\": 54, \"sex\": 0, \"cp\": 2, \"trestbps\": 160, \"chol\": 201, \"fbs\": 0, \"restecg\": 0, \"thalach\": 163, \"exang\": 0, \"oldpeak\": 0.0, \"slope\": 0, \"ca\": 1, \"thal\": 0, \"condition\": 0}, {\"age\": 53, \"sex\": 1, \"cp\": 2, \"trestbps\": 130, \"chol\": 197, \"fbs\": 1, \"restecg\": 2, \"thalach\": 152, \"exang\": 0, \"oldpeak\": 1.2, \"slope\": 2, \"ca\": 0, \"thal\": 0, \"condition\": 0}, {\"age\": 53, \"sex\": 1, \"cp\": 2, \"trestbps\": 130, \"chol\": 246, \"fbs\": 1, \"restecg\": 2, \"thalach\": 173, \"exang\": 0, \"oldpeak\": 0.0, \"slope\": 0, \"ca\": 3, \"thal\": 0, \"condition\": 0}, {\"age\": 52, \"sex\": 0, \"cp\": 2, \"trestbps\": 136, \"chol\": 196, \"fbs\": 0, \"restecg\": 2, \"thalach\": 169, \"exang\": 0, \"oldpeak\": 0.1, \"slope\": 1, \"ca\": 0, \"thal\": 0, \"condition\": 0}, {\"age\": 52, \"sex\": 1, \"cp\": 2, \"trestbps\": 172, \"chol\": 199, \"fbs\": 1, \"restecg\": 0, \"thalach\": 162, \"exang\": 0, \"oldpeak\": 0.5, \"slope\": 0, \"ca\": 0, \"thal\": 2, \"condition\": 0}, {\"age\": 51, \"sex\": 1, \"cp\": 2, \"trestbps\": 100, \"chol\": 222, \"fbs\": 0, \"restecg\": 0, \"thalach\": 143, \"exang\": 1, \"oldpeak\": 1.2, \"slope\": 1, \"ca\": 0, \"thal\": 0, \"condition\": 0}, {\"age\": 51, \"sex\": 1, \"cp\": 2, \"trestbps\": 125, \"chol\": 245, \"fbs\": 1, \"restecg\": 2, \"thalach\": 166, \"exang\": 0, \"oldpeak\": 2.4, \"slope\": 1, \"ca\": 0, \"thal\": 0, \"condition\": 0}, {\"age\": 51, \"sex\": 1, \"cp\": 2, \"trestbps\": 110, \"chol\": 175, \"fbs\": 0, \"restecg\": 0, \"thalach\": 123, \"exang\": 0, \"oldpeak\": 0.6, \"slope\": 0, \"ca\": 0, \"thal\": 0, \"condition\": 0}, {\"age\": 51, \"sex\": 0, \"cp\": 2, \"trestbps\": 140, \"chol\": 308, \"fbs\": 0, \"restecg\": 2, \"thalach\": 142, \"exang\": 0, \"oldpeak\": 1.5, \"slope\": 0, \"ca\": 1, \"thal\": 0, \"condition\": 0}, {\"age\": 51, \"sex\": 0, \"cp\": 2, \"trestbps\": 130, \"chol\": 256, \"fbs\": 0, \"restecg\": 2, \"thalach\": 149, \"exang\": 0, \"oldpeak\": 0.5, \"slope\": 0, \"ca\": 0, \"thal\": 0, \"condition\": 0}, {\"age\": 51, \"sex\": 1, \"cp\": 2, \"trestbps\": 94, \"chol\": 227, \"fbs\": 0, \"restecg\": 0, \"thalach\": 154, \"exang\": 1, \"oldpeak\": 0.0, \"slope\": 0, \"ca\": 1, \"thal\": 2, \"condition\": 0}, {\"age\": 51, \"sex\": 0, \"cp\": 2, \"trestbps\": 120, \"chol\": 295, \"fbs\": 0, \"restecg\": 2, \"thalach\": 157, \"exang\": 0, \"oldpeak\": 0.6, \"slope\": 0, \"ca\": 0, \"thal\": 0, \"condition\": 0}, {\"age\": 50, \"sex\": 0, \"cp\": 2, \"trestbps\": 120, \"chol\": 219, \"fbs\": 0, \"restecg\": 0, \"thalach\": 158, \"exang\": 0, \"oldpeak\": 1.6, \"slope\": 1, \"ca\": 0, \"thal\": 0, \"condition\": 0}, {\"age\": 50, \"sex\": 1, \"cp\": 2, \"trestbps\": 140, \"chol\": 233, \"fbs\": 0, \"restecg\": 0, \"thalach\": 163, \"exang\": 0, \"oldpeak\": 0.6, \"slope\": 1, \"ca\": 1, \"thal\": 2, \"condition\": 1}, {\"age\": 50, \"sex\": 1, \"cp\": 2, \"trestbps\": 129, \"chol\": 196, \"fbs\": 0, \"restecg\": 0, \"thalach\": 163, \"exang\": 0, \"oldpeak\": 0.0, \"slope\": 0, \"ca\": 0, \"thal\": 0, \"condition\": 0}, {\"age\": 49, \"sex\": 1, \"cp\": 2, \"trestbps\": 120, \"chol\": 188, \"fbs\": 0, \"restecg\": 0, \"thalach\": 139, \"exang\": 0, \"oldpeak\": 2.0, \"slope\": 1, \"ca\": 3, \"thal\": 2, \"condition\": 1}, {\"age\": 49, \"sex\": 1, \"cp\": 2, \"trestbps\": 118, \"chol\": 149, \"fbs\": 0, \"restecg\": 2, \"thalach\": 126, \"exang\": 0, \"oldpeak\": 0.8, \"slope\": 0, \"ca\": 3, \"thal\": 0, \"condition\": 1}, {\"age\": 48, \"sex\": 0, \"cp\": 2, \"trestbps\": 130, \"chol\": 275, \"fbs\": 0, \"restecg\": 0, \"thalach\": 139, \"exang\": 0, \"oldpeak\": 0.2, \"slope\": 0, \"ca\": 0, \"thal\": 0, \"condition\": 0}, {\"age\": 48, \"sex\": 1, \"cp\": 2, \"trestbps\": 124, \"chol\": 255, \"fbs\": 1, \"restecg\": 0, \"thalach\": 175, \"exang\": 0, \"oldpeak\": 0.0, \"slope\": 0, \"ca\": 2, \"thal\": 0, \"condition\": 0}, {\"age\": 47, \"sex\": 1, \"cp\": 2, \"trestbps\": 138, \"chol\": 257, \"fbs\": 0, \"restecg\": 2, \"thalach\": 156, \"exang\": 0, \"oldpeak\": 0.0, \"slope\": 0, \"ca\": 0, \"thal\": 0, \"condition\": 0}, {\"age\": 47, \"sex\": 1, \"cp\": 2, \"trestbps\": 108, \"chol\": 243, \"fbs\": 0, \"restecg\": 0, \"thalach\": 152, \"exang\": 0, \"oldpeak\": 0.0, \"slope\": 0, \"ca\": 0, \"thal\": 0, \"condition\": 1}, {\"age\": 47, \"sex\": 1, \"cp\": 2, \"trestbps\": 130, \"chol\": 253, \"fbs\": 0, \"restecg\": 0, \"thalach\": 179, \"exang\": 0, \"oldpeak\": 0.0, \"slope\": 0, \"ca\": 0, \"thal\": 0, \"condition\": 0}, {\"age\": 46, \"sex\": 0, \"cp\": 2, \"trestbps\": 142, \"chol\": 177, \"fbs\": 0, \"restecg\": 2, \"thalach\": 160, \"exang\": 1, \"oldpeak\": 1.4, \"slope\": 2, \"ca\": 0, \"thal\": 0, \"condition\": 0}, {\"age\": 46, \"sex\": 1, \"cp\": 2, \"trestbps\": 150, \"chol\": 231, \"fbs\": 0, \"restecg\": 0, \"thalach\": 147, \"exang\": 0, \"oldpeak\": 3.6, \"slope\": 1, \"ca\": 0, \"thal\": 0, \"condition\": 1}, {\"age\": 44, \"sex\": 0, \"cp\": 2, \"trestbps\": 108, \"chol\": 141, \"fbs\": 0, \"restecg\": 0, \"thalach\": 175, \"exang\": 0, \"oldpeak\": 0.6, \"slope\": 1, \"ca\": 0, \"thal\": 0, \"condition\": 0}, {\"age\": 44, \"sex\": 0, \"cp\": 2, \"trestbps\": 118, \"chol\": 242, \"fbs\": 0, \"restecg\": 0, \"thalach\": 149, \"exang\": 0, \"oldpeak\": 0.3, \"slope\": 1, \"ca\": 1, \"thal\": 0, \"condition\": 0}, {\"age\": 44, \"sex\": 1, \"cp\": 2, \"trestbps\": 130, \"chol\": 233, \"fbs\": 0, \"restecg\": 0, \"thalach\": 179, \"exang\": 1, \"oldpeak\": 0.4, \"slope\": 0, \"ca\": 0, \"thal\": 0, \"condition\": 0}, {\"age\": 44, \"sex\": 1, \"cp\": 2, \"trestbps\": 140, \"chol\": 235, \"fbs\": 0, \"restecg\": 2, \"thalach\": 180, \"exang\": 0, \"oldpeak\": 0.0, \"slope\": 0, \"ca\": 0, \"thal\": 0, \"condition\": 0}, {\"age\": 44, \"sex\": 1, \"cp\": 2, \"trestbps\": 120, \"chol\": 226, \"fbs\": 0, \"restecg\": 0, \"thalach\": 169, \"exang\": 0, \"oldpeak\": 0.0, \"slope\": 0, \"ca\": 0, \"thal\": 0, \"condition\": 0}, {\"age\": 43, \"sex\": 0, \"cp\": 2, \"trestbps\": 122, \"chol\": 213, \"fbs\": 0, \"restecg\": 0, \"thalach\": 165, \"exang\": 0, \"oldpeak\": 0.2, \"slope\": 1, \"ca\": 0, \"thal\": 0, \"condition\": 0}, {\"age\": 43, \"sex\": 1, \"cp\": 2, \"trestbps\": 130, \"chol\": 315, \"fbs\": 0, \"restecg\": 0, \"thalach\": 162, \"exang\": 0, \"oldpeak\": 1.9, \"slope\": 0, \"ca\": 1, \"thal\": 0, \"condition\": 0}, {\"age\": 42, \"sex\": 1, \"cp\": 2, \"trestbps\": 120, \"chol\": 240, \"fbs\": 1, \"restecg\": 0, \"thalach\": 194, \"exang\": 0, \"oldpeak\": 0.8, \"slope\": 2, \"ca\": 0, \"thal\": 2, \"condition\": 0}, {\"age\": 42, \"sex\": 0, \"cp\": 2, \"trestbps\": 120, \"chol\": 209, \"fbs\": 0, \"restecg\": 0, \"thalach\": 173, \"exang\": 0, \"oldpeak\": 0.0, \"slope\": 1, \"ca\": 0, \"thal\": 0, \"condition\": 0}, {\"age\": 42, \"sex\": 1, \"cp\": 2, \"trestbps\": 130, \"chol\": 180, \"fbs\": 0, \"restecg\": 0, \"thalach\": 150, \"exang\": 0, \"oldpeak\": 0.0, \"slope\": 0, \"ca\": 0, \"thal\": 0, \"condition\": 0}, {\"age\": 41, \"sex\": 1, \"cp\": 2, \"trestbps\": 130, \"chol\": 214, \"fbs\": 0, \"restecg\": 2, \"thalach\": 168, \"exang\": 0, \"oldpeak\": 2.0, \"slope\": 1, \"ca\": 0, \"thal\": 0, \"condition\": 0}, {\"age\": 41, \"sex\": 1, \"cp\": 2, \"trestbps\": 112, \"chol\": 250, \"fbs\": 0, \"restecg\": 0, \"thalach\": 179, \"exang\": 0, \"oldpeak\": 0.0, \"slope\": 0, \"ca\": 0, \"thal\": 0, \"condition\": 0}, {\"age\": 41, \"sex\": 0, \"cp\": 2, \"trestbps\": 112, \"chol\": 268, \"fbs\": 0, \"restecg\": 2, \"thalach\": 172, \"exang\": 1, \"oldpeak\": 0.0, \"slope\": 0, \"ca\": 0, \"thal\": 0, \"condition\": 0}, {\"age\": 39, \"sex\": 0, \"cp\": 2, \"trestbps\": 138, \"chol\": 220, \"fbs\": 0, \"restecg\": 0, \"thalach\": 152, \"exang\": 0, \"oldpeak\": 0.0, \"slope\": 1, \"ca\": 0, \"thal\": 0, \"condition\": 0}, {\"age\": 39, \"sex\": 1, \"cp\": 2, \"trestbps\": 140, \"chol\": 321, \"fbs\": 0, \"restecg\": 2, \"thalach\": 182, \"exang\": 0, \"oldpeak\": 0.0, \"slope\": 0, \"ca\": 0, \"thal\": 0, \"condition\": 0}, {\"age\": 39, \"sex\": 0, \"cp\": 2, \"trestbps\": 94, \"chol\": 199, \"fbs\": 0, \"restecg\": 0, \"thalach\": 179, \"exang\": 0, \"oldpeak\": 0.0, \"slope\": 0, \"ca\": 0, \"thal\": 0, \"condition\": 0}, {\"age\": 37, \"sex\": 1, \"cp\": 2, \"trestbps\": 130, \"chol\": 250, \"fbs\": 0, \"restecg\": 0, \"thalach\": 187, \"exang\": 0, \"oldpeak\": 3.5, \"slope\": 2, \"ca\": 0, \"thal\": 0, \"condition\": 0}, {\"age\": 37, \"sex\": 0, \"cp\": 2, \"trestbps\": 120, \"chol\": 215, \"fbs\": 0, \"restecg\": 0, \"thalach\": 170, \"exang\": 0, \"oldpeak\": 0.0, \"slope\": 0, \"ca\": 0, \"thal\": 0, \"condition\": 0}, {\"age\": 77, \"sex\": 1, \"cp\": 3, \"trestbps\": 125, \"chol\": 304, \"fbs\": 0, \"restecg\": 2, \"thalach\": 162, \"exang\": 1, \"oldpeak\": 0.0, \"slope\": 0, \"ca\": 3, \"thal\": 0, \"condition\": 1}, {\"age\": 71, \"sex\": 0, \"cp\": 3, \"trestbps\": 112, \"chol\": 149, \"fbs\": 0, \"restecg\": 0, \"thalach\": 125, \"exang\": 0, \"oldpeak\": 1.6, \"slope\": 1, \"ca\": 0, \"thal\": 0, \"condition\": 0}, {\"age\": 70, \"sex\": 1, \"cp\": 3, \"trestbps\": 145, \"chol\": 174, \"fbs\": 0, \"restecg\": 0, \"thalach\": 125, \"exang\": 1, \"oldpeak\": 2.6, \"slope\": 2, \"ca\": 0, \"thal\": 2, \"condition\": 1}, {\"age\": 70, \"sex\": 1, \"cp\": 3, \"trestbps\": 130, \"chol\": 322, \"fbs\": 0, \"restecg\": 2, \"thalach\": 109, \"exang\": 0, \"oldpeak\": 2.4, \"slope\": 1, \"ca\": 3, \"thal\": 0, \"condition\": 1}, {\"age\": 68, \"sex\": 1, \"cp\": 3, \"trestbps\": 144, \"chol\": 193, \"fbs\": 1, \"restecg\": 0, \"thalach\": 141, \"exang\": 0, \"oldpeak\": 3.4, \"slope\": 1, \"ca\": 2, \"thal\": 2, \"condition\": 1}, {\"age\": 67, \"sex\": 1, \"cp\": 3, \"trestbps\": 160, \"chol\": 286, \"fbs\": 0, \"restecg\": 2, \"thalach\": 108, \"exang\": 1, \"oldpeak\": 1.5, \"slope\": 1, \"ca\": 3, \"thal\": 0, \"condition\": 1}, {\"age\": 67, \"sex\": 1, \"cp\": 3, \"trestbps\": 120, \"chol\": 229, \"fbs\": 0, \"restecg\": 2, \"thalach\": 129, \"exang\": 1, \"oldpeak\": 2.6, \"slope\": 1, \"ca\": 2, \"thal\": 2, \"condition\": 1}, {\"age\": 67, \"sex\": 1, \"cp\": 3, \"trestbps\": 125, \"chol\": 254, \"fbs\": 1, \"restecg\": 0, \"thalach\": 163, \"exang\": 0, \"oldpeak\": 0.2, \"slope\": 1, \"ca\": 2, \"thal\": 2, \"condition\": 1}, {\"age\": 67, \"sex\": 1, \"cp\": 3, \"trestbps\": 100, \"chol\": 299, \"fbs\": 0, \"restecg\": 2, \"thalach\": 125, \"exang\": 1, \"oldpeak\": 0.9, \"slope\": 1, \"ca\": 2, \"thal\": 0, \"condition\": 1}, {\"age\": 67, \"sex\": 1, \"cp\": 3, \"trestbps\": 120, \"chol\": 237, \"fbs\": 0, \"restecg\": 0, \"thalach\": 71, \"exang\": 0, \"oldpeak\": 1.0, \"slope\": 1, \"ca\": 0, \"thal\": 0, \"condition\": 1}, {\"age\": 67, \"sex\": 0, \"cp\": 3, \"trestbps\": 106, \"chol\": 223, \"fbs\": 0, \"restecg\": 0, \"thalach\": 142, \"exang\": 0, \"oldpeak\": 0.3, \"slope\": 0, \"ca\": 2, \"thal\": 0, \"condition\": 0}, {\"age\": 66, \"sex\": 1, \"cp\": 3, \"trestbps\": 120, \"chol\": 302, \"fbs\": 0, \"restecg\": 2, \"thalach\": 151, \"exang\": 0, \"oldpeak\": 0.4, \"slope\": 1, \"ca\": 0, \"thal\": 0, \"condition\": 0}, {\"age\": 66, \"sex\": 0, \"cp\": 3, \"trestbps\": 178, \"chol\": 228, \"fbs\": 1, \"restecg\": 0, \"thalach\": 165, \"exang\": 1, \"oldpeak\": 1.0, \"slope\": 1, \"ca\": 2, \"thal\": 2, \"condition\": 1}, {\"age\": 66, \"sex\": 1, \"cp\": 3, \"trestbps\": 112, \"chol\": 212, \"fbs\": 0, \"restecg\": 2, \"thalach\": 132, \"exang\": 1, \"oldpeak\": 0.1, \"slope\": 0, \"ca\": 1, \"thal\": 0, \"condition\": 1}, {\"age\": 66, \"sex\": 1, \"cp\": 3, \"trestbps\": 160, \"chol\": 228, \"fbs\": 0, \"restecg\": 2, \"thalach\": 138, \"exang\": 0, \"oldpeak\": 2.3, \"slope\": 0, \"ca\": 0, \"thal\": 1, \"condition\": 0}, {\"age\": 65, \"sex\": 0, \"cp\": 3, \"trestbps\": 150, \"chol\": 225, \"fbs\": 0, \"restecg\": 2, \"thalach\": 114, \"exang\": 0, \"oldpeak\": 1.0, \"slope\": 1, \"ca\": 3, \"thal\": 2, \"condition\": 1}, {\"age\": 65, \"sex\": 1, \"cp\": 3, \"trestbps\": 135, \"chol\": 254, \"fbs\": 0, \"restecg\": 2, \"thalach\": 127, \"exang\": 0, \"oldpeak\": 2.8, \"slope\": 1, \"ca\": 1, \"thal\": 2, \"condition\": 1}, {\"age\": 65, \"sex\": 1, \"cp\": 3, \"trestbps\": 120, \"chol\": 177, \"fbs\": 0, \"restecg\": 0, \"thalach\": 140, \"exang\": 0, \"oldpeak\": 0.4, \"slope\": 0, \"ca\": 0, \"thal\": 2, \"condition\": 0}, {\"age\": 65, \"sex\": 1, \"cp\": 3, \"trestbps\": 110, \"chol\": 248, \"fbs\": 0, \"restecg\": 2, \"thalach\": 158, \"exang\": 0, \"oldpeak\": 0.6, \"slope\": 0, \"ca\": 2, \"thal\": 1, \"condition\": 1}, {\"age\": 64, \"sex\": 1, \"cp\": 3, \"trestbps\": 120, \"chol\": 246, \"fbs\": 0, \"restecg\": 2, \"thalach\": 96, \"exang\": 1, \"oldpeak\": 2.2, \"slope\": 2, \"ca\": 1, \"thal\": 0, \"condition\": 1}, {\"age\": 64, \"sex\": 1, \"cp\": 3, \"trestbps\": 145, \"chol\": 212, \"fbs\": 0, \"restecg\": 2, \"thalach\": 132, \"exang\": 0, \"oldpeak\": 2.0, \"slope\": 1, \"ca\": 2, \"thal\": 1, \"condition\": 1}, {\"age\": 64, \"sex\": 0, \"cp\": 3, \"trestbps\": 130, \"chol\": 303, \"fbs\": 0, \"restecg\": 0, \"thalach\": 122, \"exang\": 0, \"oldpeak\": 2.0, \"slope\": 1, \"ca\": 2, \"thal\": 0, \"condition\": 0}, {\"age\": 64, \"sex\": 1, \"cp\": 3, \"trestbps\": 128, \"chol\": 263, \"fbs\": 0, \"restecg\": 0, \"thalach\": 105, \"exang\": 1, \"oldpeak\": 0.2, \"slope\": 1, \"ca\": 1, \"thal\": 2, \"condition\": 0}, {\"age\": 64, \"sex\": 0, \"cp\": 3, \"trestbps\": 180, \"chol\": 325, \"fbs\": 0, \"restecg\": 0, \"thalach\": 154, \"exang\": 1, \"oldpeak\": 0.0, \"slope\": 0, \"ca\": 0, \"thal\": 0, \"condition\": 0}, {\"age\": 63, \"sex\": 1, \"cp\": 3, \"trestbps\": 130, \"chol\": 254, \"fbs\": 0, \"restecg\": 2, \"thalach\": 147, \"exang\": 0, \"oldpeak\": 1.4, \"slope\": 1, \"ca\": 1, \"thal\": 2, \"condition\": 1}, {\"age\": 63, \"sex\": 0, \"cp\": 3, \"trestbps\": 150, \"chol\": 407, \"fbs\": 0, \"restecg\": 2, \"thalach\": 154, \"exang\": 0, \"oldpeak\": 4.0, \"slope\": 1, \"ca\": 3, \"thal\": 2, \"condition\": 1}, {\"age\": 63, \"sex\": 0, \"cp\": 3, \"trestbps\": 108, \"chol\": 269, \"fbs\": 0, \"restecg\": 0, \"thalach\": 169, \"exang\": 1, \"oldpeak\": 1.8, \"slope\": 1, \"ca\": 2, \"thal\": 0, \"condition\": 1}, {\"age\": 63, \"sex\": 0, \"cp\": 3, \"trestbps\": 124, \"chol\": 197, \"fbs\": 0, \"restecg\": 0, \"thalach\": 136, \"exang\": 1, \"oldpeak\": 0.0, \"slope\": 1, \"ca\": 0, \"thal\": 0, \"condition\": 1}, {\"age\": 63, \"sex\": 1, \"cp\": 3, \"trestbps\": 130, \"chol\": 330, \"fbs\": 1, \"restecg\": 2, \"thalach\": 132, \"exang\": 1, \"oldpeak\": 1.8, \"slope\": 0, \"ca\": 3, \"thal\": 2, \"condition\": 1}, {\"age\": 63, \"sex\": 1, \"cp\": 3, \"trestbps\": 140, \"chol\": 187, \"fbs\": 0, \"restecg\": 2, \"thalach\": 144, \"exang\": 1, \"oldpeak\": 4.0, \"slope\": 0, \"ca\": 2, \"thal\": 2, \"condition\": 1}, {\"age\": 62, \"sex\": 0, \"cp\": 3, \"trestbps\": 140, \"chol\": 268, \"fbs\": 0, \"restecg\": 2, \"thalach\": 160, \"exang\": 0, \"oldpeak\": 3.6, \"slope\": 2, \"ca\": 2, \"thal\": 0, \"condition\": 1}, {\"age\": 62, \"sex\": 0, \"cp\": 3, \"trestbps\": 160, \"chol\": 164, \"fbs\": 0, \"restecg\": 2, \"thalach\": 145, \"exang\": 0, \"oldpeak\": 6.2, \"slope\": 2, \"ca\": 3, \"thal\": 2, \"condition\": 1}, {\"age\": 62, \"sex\": 1, \"cp\": 3, \"trestbps\": 120, \"chol\": 267, \"fbs\": 0, \"restecg\": 0, \"thalach\": 99, \"exang\": 1, \"oldpeak\": 1.8, \"slope\": 1, \"ca\": 2, \"thal\": 2, \"condition\": 1}, {\"age\": 62, \"sex\": 0, \"cp\": 3, \"trestbps\": 140, \"chol\": 394, \"fbs\": 0, \"restecg\": 2, \"thalach\": 157, \"exang\": 0, \"oldpeak\": 1.2, \"slope\": 1, \"ca\": 0, \"thal\": 0, \"condition\": 0}, {\"age\": 62, \"sex\": 0, \"cp\": 3, \"trestbps\": 138, \"chol\": 294, \"fbs\": 1, \"restecg\": 0, \"thalach\": 106, \"exang\": 0, \"oldpeak\": 1.9, \"slope\": 1, \"ca\": 3, \"thal\": 0, \"condition\": 1}, {\"age\": 62, \"sex\": 0, \"cp\": 3, \"trestbps\": 150, \"chol\": 244, \"fbs\": 0, \"restecg\": 0, \"thalach\": 154, \"exang\": 1, \"oldpeak\": 1.4, \"slope\": 1, \"ca\": 0, \"thal\": 0, \"condition\": 1}, {\"age\": 62, \"sex\": 0, \"cp\": 3, \"trestbps\": 124, \"chol\": 209, \"fbs\": 0, \"restecg\": 0, \"thalach\": 163, \"exang\": 0, \"oldpeak\": 0.0, \"slope\": 0, \"ca\": 0, \"thal\": 0, \"condition\": 0}, {\"age\": 61, \"sex\": 1, \"cp\": 3, \"trestbps\": 120, \"chol\": 260, \"fbs\": 0, \"restecg\": 0, \"thalach\": 140, \"exang\": 1, \"oldpeak\": 3.6, \"slope\": 1, \"ca\": 1, \"thal\": 2, \"condition\": 1}, {\"age\": 61, \"sex\": 0, \"cp\": 3, \"trestbps\": 145, \"chol\": 307, \"fbs\": 0, \"restecg\": 2, \"thalach\": 146, \"exang\": 1, \"oldpeak\": 1.0, \"slope\": 1, \"ca\": 0, \"thal\": 2, \"condition\": 1}, {\"age\": 61, \"sex\": 1, \"cp\": 3, \"trestbps\": 138, \"chol\": 166, \"fbs\": 0, \"restecg\": 2, \"thalach\": 125, \"exang\": 1, \"oldpeak\": 3.6, \"slope\": 1, \"ca\": 1, \"thal\": 0, \"condition\": 1}, {\"age\": 61, \"sex\": 0, \"cp\": 3, \"trestbps\": 130, \"chol\": 330, \"fbs\": 0, \"restecg\": 2, \"thalach\": 169, \"exang\": 0, \"oldpeak\": 0.0, \"slope\": 0, \"ca\": 0, \"thal\": 0, \"condition\": 1}, {\"age\": 61, \"sex\": 1, \"cp\": 3, \"trestbps\": 140, \"chol\": 207, \"fbs\": 0, \"restecg\": 2, \"thalach\": 138, \"exang\": 1, \"oldpeak\": 1.9, \"slope\": 0, \"ca\": 1, \"thal\": 2, \"condition\": 1}, {\"age\": 61, \"sex\": 1, \"cp\": 3, \"trestbps\": 148, \"chol\": 203, \"fbs\": 0, \"restecg\": 0, \"thalach\": 161, \"exang\": 0, \"oldpeak\": 0.0, \"slope\": 0, \"ca\": 1, \"thal\": 2, \"condition\": 1}, {\"age\": 60, \"sex\": 1, \"cp\": 3, \"trestbps\": 130, \"chol\": 206, \"fbs\": 0, \"restecg\": 2, \"thalach\": 132, \"exang\": 1, \"oldpeak\": 2.4, \"slope\": 1, \"ca\": 2, \"thal\": 2, \"condition\": 1}, {\"age\": 60, \"sex\": 1, \"cp\": 3, \"trestbps\": 145, \"chol\": 282, \"fbs\": 0, \"restecg\": 2, \"thalach\": 142, \"exang\": 1, \"oldpeak\": 2.8, \"slope\": 1, \"ca\": 2, \"thal\": 2, \"condition\": 1}, {\"age\": 60, \"sex\": 1, \"cp\": 3, \"trestbps\": 125, \"chol\": 258, \"fbs\": 0, \"restecg\": 2, \"thalach\": 141, \"exang\": 1, \"oldpeak\": 2.8, \"slope\": 1, \"ca\": 1, \"thal\": 2, \"condition\": 1}, {\"age\": 60, \"sex\": 0, \"cp\": 3, \"trestbps\": 150, \"chol\": 258, \"fbs\": 0, \"restecg\": 2, \"thalach\": 157, \"exang\": 0, \"oldpeak\": 2.6, \"slope\": 1, \"ca\": 2, \"thal\": 2, \"condition\": 1}, {\"age\": 60, \"sex\": 1, \"cp\": 3, \"trestbps\": 140, \"chol\": 293, \"fbs\": 0, \"restecg\": 2, \"thalach\": 170, \"exang\": 0, \"oldpeak\": 1.2, \"slope\": 1, \"ca\": 2, \"thal\": 2, \"condition\": 1}, {\"age\": 60, \"sex\": 1, \"cp\": 3, \"trestbps\": 117, \"chol\": 230, \"fbs\": 1, \"restecg\": 0, \"thalach\": 160, \"exang\": 1, \"oldpeak\": 1.4, \"slope\": 0, \"ca\": 2, \"thal\": 2, \"condition\": 1}, {\"age\": 60, \"sex\": 1, \"cp\": 3, \"trestbps\": 130, \"chol\": 253, \"fbs\": 0, \"restecg\": 0, \"thalach\": 144, \"exang\": 1, \"oldpeak\": 1.4, \"slope\": 0, \"ca\": 1, \"thal\": 2, \"condition\": 1}, {\"age\": 60, \"sex\": 0, \"cp\": 3, \"trestbps\": 158, \"chol\": 305, \"fbs\": 0, \"restecg\": 2, \"thalach\": 161, \"exang\": 0, \"oldpeak\": 0.0, \"slope\": 0, \"ca\": 0, \"thal\": 0, \"condition\": 1}, {\"age\": 59, \"sex\": 1, \"cp\": 3, \"trestbps\": 170, \"chol\": 326, \"fbs\": 0, \"restecg\": 2, \"thalach\": 140, \"exang\": 1, \"oldpeak\": 3.4, \"slope\": 2, \"ca\": 0, \"thal\": 2, \"condition\": 1}, {\"age\": 59, \"sex\": 1, \"cp\": 3, \"trestbps\": 135, \"chol\": 234, \"fbs\": 0, \"restecg\": 0, \"thalach\": 161, \"exang\": 0, \"oldpeak\": 0.5, \"slope\": 1, \"ca\": 0, \"thal\": 2, \"condition\": 0}, {\"age\": 59, \"sex\": 1, \"cp\": 3, \"trestbps\": 110, \"chol\": 239, \"fbs\": 0, \"restecg\": 2, \"thalach\": 142, \"exang\": 1, \"oldpeak\": 1.2, \"slope\": 1, \"ca\": 1, \"thal\": 2, \"condition\": 1}, {\"age\": 59, \"sex\": 0, \"cp\": 3, \"trestbps\": 174, \"chol\": 249, \"fbs\": 0, \"restecg\": 0, \"thalach\": 143, \"exang\": 1, \"oldpeak\": 0.0, \"slope\": 1, \"ca\": 0, \"thal\": 0, \"condition\": 1}, {\"age\": 59, \"sex\": 1, \"cp\": 3, \"trestbps\": 164, \"chol\": 176, \"fbs\": 1, \"restecg\": 2, \"thalach\": 90, \"exang\": 0, \"oldpeak\": 1.0, \"slope\": 1, \"ca\": 2, \"thal\": 1, \"condition\": 1}, {\"age\": 59, \"sex\": 1, \"cp\": 3, \"trestbps\": 140, \"chol\": 177, \"fbs\": 0, \"restecg\": 0, \"thalach\": 162, \"exang\": 1, \"oldpeak\": 0.0, \"slope\": 0, \"ca\": 1, \"thal\": 2, \"condition\": 1}, {\"age\": 59, \"sex\": 1, \"cp\": 3, \"trestbps\": 138, \"chol\": 271, \"fbs\": 0, \"restecg\": 2, \"thalach\": 182, \"exang\": 0, \"oldpeak\": 0.0, \"slope\": 0, \"ca\": 0, \"thal\": 0, \"condition\": 0}, {\"age\": 58, \"sex\": 1, \"cp\": 3, \"trestbps\": 114, \"chol\": 318, \"fbs\": 0, \"restecg\": 1, \"thalach\": 140, \"exang\": 0, \"oldpeak\": 4.4, \"slope\": 2, \"ca\": 3, \"thal\": 1, \"condition\": 1}, {\"age\": 58, \"sex\": 1, \"cp\": 3, \"trestbps\": 128, \"chol\": 216, \"fbs\": 0, \"restecg\": 2, \"thalach\": 131, \"exang\": 1, \"oldpeak\": 2.2, \"slope\": 1, \"ca\": 3, \"thal\": 2, \"condition\": 1}, {\"age\": 58, \"sex\": 0, \"cp\": 3, \"trestbps\": 100, \"chol\": 248, \"fbs\": 0, \"restecg\": 2, \"thalach\": 122, \"exang\": 0, \"oldpeak\": 1.0, \"slope\": 1, \"ca\": 0, \"thal\": 0, \"condition\": 0}, {\"age\": 58, \"sex\": 1, \"cp\": 3, \"trestbps\": 128, \"chol\": 259, \"fbs\": 0, \"restecg\": 2, \"thalach\": 130, \"exang\": 1, \"oldpeak\": 3.0, \"slope\": 1, \"ca\": 2, \"thal\": 2, \"condition\": 1}, {\"age\": 58, \"sex\": 1, \"cp\": 3, \"trestbps\": 146, \"chol\": 218, \"fbs\": 0, \"restecg\": 0, \"thalach\": 105, \"exang\": 0, \"oldpeak\": 2.0, \"slope\": 1, \"ca\": 1, \"thal\": 2, \"condition\": 1}, {\"age\": 58, \"sex\": 0, \"cp\": 3, \"trestbps\": 130, \"chol\": 197, \"fbs\": 0, \"restecg\": 0, \"thalach\": 131, \"exang\": 0, \"oldpeak\": 0.6, \"slope\": 1, \"ca\": 0, \"thal\": 0, \"condition\": 0}, {\"age\": 58, \"sex\": 0, \"cp\": 3, \"trestbps\": 170, \"chol\": 225, \"fbs\": 1, \"restecg\": 2, \"thalach\": 146, \"exang\": 1, \"oldpeak\": 2.8, \"slope\": 1, \"ca\": 2, \"thal\": 1, \"condition\": 1}, {\"age\": 58, \"sex\": 1, \"cp\": 3, \"trestbps\": 150, \"chol\": 270, \"fbs\": 0, \"restecg\": 2, \"thalach\": 111, \"exang\": 1, \"oldpeak\": 0.8, \"slope\": 0, \"ca\": 0, \"thal\": 2, \"condition\": 1}, {\"age\": 58, \"sex\": 1, \"cp\": 3, \"trestbps\": 125, \"chol\": 300, \"fbs\": 0, \"restecg\": 2, \"thalach\": 171, \"exang\": 0, \"oldpeak\": 0.0, \"slope\": 0, \"ca\": 2, \"thal\": 2, \"condition\": 1}, {\"age\": 58, \"sex\": 1, \"cp\": 3, \"trestbps\": 100, \"chol\": 234, \"fbs\": 0, \"restecg\": 0, \"thalach\": 156, \"exang\": 0, \"oldpeak\": 0.1, \"slope\": 0, \"ca\": 1, \"thal\": 2, \"condition\": 1}, {\"age\": 57, \"sex\": 1, \"cp\": 3, \"trestbps\": 140, \"chol\": 192, \"fbs\": 0, \"restecg\": 0, \"thalach\": 148, \"exang\": 0, \"oldpeak\": 0.4, \"slope\": 1, \"ca\": 0, \"thal\": 1, \"condition\": 0}, {\"age\": 57, \"sex\": 1, \"cp\": 3, \"trestbps\": 150, \"chol\": 276, \"fbs\": 0, \"restecg\": 2, \"thalach\": 112, \"exang\": 1, \"oldpeak\": 0.6, \"slope\": 1, \"ca\": 1, \"thal\": 1, \"condition\": 1}, {\"age\": 57, \"sex\": 1, \"cp\": 3, \"trestbps\": 165, \"chol\": 289, \"fbs\": 1, \"restecg\": 2, \"thalach\": 124, \"exang\": 0, \"oldpeak\": 1.0, \"slope\": 1, \"ca\": 3, \"thal\": 2, \"condition\": 1}, {\"age\": 57, \"sex\": 1, \"cp\": 3, \"trestbps\": 152, \"chol\": 274, \"fbs\": 0, \"restecg\": 0, \"thalach\": 88, \"exang\": 1, \"oldpeak\": 1.2, \"slope\": 1, \"ca\": 1, \"thal\": 2, \"condition\": 1}, {\"age\": 57, \"sex\": 1, \"cp\": 3, \"trestbps\": 110, \"chol\": 201, \"fbs\": 0, \"restecg\": 0, \"thalach\": 126, \"exang\": 1, \"oldpeak\": 1.5, \"slope\": 1, \"ca\": 0, \"thal\": 1, \"condition\": 0}, {\"age\": 57, \"sex\": 1, \"cp\": 3, \"trestbps\": 110, \"chol\": 335, \"fbs\": 0, \"restecg\": 0, \"thalach\": 143, \"exang\": 1, \"oldpeak\": 3.0, \"slope\": 1, \"ca\": 1, \"thal\": 2, \"condition\": 1}, {\"age\": 57, \"sex\": 0, \"cp\": 3, \"trestbps\": 140, \"chol\": 241, \"fbs\": 0, \"restecg\": 0, \"thalach\": 123, \"exang\": 1, \"oldpeak\": 0.2, \"slope\": 1, \"ca\": 0, \"thal\": 2, \"condition\": 1}, {\"age\": 57, \"sex\": 1, \"cp\": 3, \"trestbps\": 130, \"chol\": 131, \"fbs\": 0, \"restecg\": 0, \"thalach\": 115, \"exang\": 1, \"oldpeak\": 1.2, \"slope\": 1, \"ca\": 1, \"thal\": 2, \"condition\": 1}, {\"age\": 57, \"sex\": 0, \"cp\": 3, \"trestbps\": 120, \"chol\": 354, \"fbs\": 0, \"restecg\": 0, \"thalach\": 163, \"exang\": 1, \"oldpeak\": 0.6, \"slope\": 0, \"ca\": 0, \"thal\": 0, \"condition\": 0}, {\"age\": 57, \"sex\": 0, \"cp\": 3, \"trestbps\": 128, \"chol\": 303, \"fbs\": 0, \"restecg\": 2, \"thalach\": 159, \"exang\": 0, \"oldpeak\": 0.0, \"slope\": 0, \"ca\": 1, \"thal\": 0, \"condition\": 0}, {\"age\": 57, \"sex\": 1, \"cp\": 3, \"trestbps\": 132, \"chol\": 207, \"fbs\": 0, \"restecg\": 0, \"thalach\": 168, \"exang\": 1, \"oldpeak\": 0.0, \"slope\": 0, \"ca\": 0, \"thal\": 2, \"condition\": 0}, {\"age\": 56, \"sex\": 0, \"cp\": 3, \"trestbps\": 200, \"chol\": 288, \"fbs\": 1, \"restecg\": 2, \"thalach\": 133, \"exang\": 1, \"oldpeak\": 4.0, \"slope\": 2, \"ca\": 2, \"thal\": 2, \"condition\": 1}, {\"age\": 56, \"sex\": 1, \"cp\": 3, \"trestbps\": 130, \"chol\": 283, \"fbs\": 1, \"restecg\": 2, \"thalach\": 103, \"exang\": 1, \"oldpeak\": 1.6, \"slope\": 2, \"ca\": 0, \"thal\": 2, \"condition\": 1}, {\"age\": 56, \"sex\": 1, \"cp\": 3, \"trestbps\": 125, \"chol\": 249, \"fbs\": 1, \"restecg\": 2, \"thalach\": 144, \"exang\": 1, \"oldpeak\": 1.2, \"slope\": 1, \"ca\": 1, \"thal\": 0, \"condition\": 1}, {\"age\": 56, \"sex\": 1, \"cp\": 3, \"trestbps\": 132, \"chol\": 184, \"fbs\": 0, \"restecg\": 2, \"thalach\": 105, \"exang\": 1, \"oldpeak\": 2.1, \"slope\": 1, \"ca\": 1, \"thal\": 1, \"condition\": 1}, {\"age\": 56, \"sex\": 0, \"cp\": 3, \"trestbps\": 134, \"chol\": 409, \"fbs\": 0, \"restecg\": 2, \"thalach\": 150, \"exang\": 1, \"oldpeak\": 1.9, \"slope\": 1, \"ca\": 2, \"thal\": 2, \"condition\": 1}, {\"age\": 55, \"sex\": 1, \"cp\": 3, \"trestbps\": 140, \"chol\": 217, \"fbs\": 0, \"restecg\": 0, \"thalach\": 111, \"exang\": 1, \"oldpeak\": 5.6, \"slope\": 2, \"ca\": 0, \"thal\": 2, \"condition\": 1}, {\"age\": 55, \"sex\": 1, \"cp\": 3, \"trestbps\": 132, \"chol\": 353, \"fbs\": 0, \"restecg\": 0, \"thalach\": 132, \"exang\": 1, \"oldpeak\": 1.2, \"slope\": 1, \"ca\": 1, \"thal\": 2, \"condition\": 1}, {\"age\": 55, \"sex\": 1, \"cp\": 3, \"trestbps\": 160, \"chol\": 289, \"fbs\": 0, \"restecg\": 2, \"thalach\": 145, \"exang\": 1, \"oldpeak\": 0.8, \"slope\": 1, \"ca\": 1, \"thal\": 2, \"condition\": 1}, {\"age\": 55, \"sex\": 0, \"cp\": 3, \"trestbps\": 180, \"chol\": 327, \"fbs\": 0, \"restecg\": 1, \"thalach\": 117, \"exang\": 1, \"oldpeak\": 3.4, \"slope\": 1, \"ca\": 0, \"thal\": 0, \"condition\": 1}, {\"age\": 55, \"sex\": 0, \"cp\": 3, \"trestbps\": 128, \"chol\": 205, \"fbs\": 0, \"restecg\": 1, \"thalach\": 130, \"exang\": 1, \"oldpeak\": 2.0, \"slope\": 1, \"ca\": 1, \"thal\": 2, \"condition\": 1}, {\"age\": 54, \"sex\": 1, \"cp\": 3, \"trestbps\": 124, \"chol\": 266, \"fbs\": 0, \"restecg\": 2, \"thalach\": 109, \"exang\": 1, \"oldpeak\": 2.2, \"slope\": 1, \"ca\": 1, \"thal\": 2, \"condition\": 1}, {\"age\": 54, \"sex\": 1, \"cp\": 3, \"trestbps\": 120, \"chol\": 188, \"fbs\": 0, \"restecg\": 0, \"thalach\": 113, \"exang\": 0, \"oldpeak\": 1.4, \"slope\": 1, \"ca\": 1, \"thal\": 2, \"condition\": 1}, {\"age\": 54, \"sex\": 1, \"cp\": 3, \"trestbps\": 110, \"chol\": 239, \"fbs\": 0, \"restecg\": 0, \"thalach\": 126, \"exang\": 1, \"oldpeak\": 2.8, \"slope\": 1, \"ca\": 1, \"thal\": 2, \"condition\": 1}, {\"age\": 54, \"sex\": 1, \"cp\": 3, \"trestbps\": 110, \"chol\": 206, \"fbs\": 0, \"restecg\": 2, \"thalach\": 108, \"exang\": 1, \"oldpeak\": 0.0, \"slope\": 1, \"ca\": 1, \"thal\": 0, \"condition\": 1}, {\"age\": 54, \"sex\": 1, \"cp\": 3, \"trestbps\": 122, \"chol\": 286, \"fbs\": 0, \"restecg\": 2, \"thalach\": 116, \"exang\": 1, \"oldpeak\": 3.2, \"slope\": 1, \"ca\": 2, \"thal\": 0, \"condition\": 1}, {\"age\": 54, \"sex\": 1, \"cp\": 3, \"trestbps\": 140, \"chol\": 239, \"fbs\": 0, \"restecg\": 0, \"thalach\": 160, \"exang\": 0, \"oldpeak\": 1.2, \"slope\": 0, \"ca\": 0, \"thal\": 0, \"condition\": 0}, {\"age\": 53, \"sex\": 1, \"cp\": 3, \"trestbps\": 140, \"chol\": 203, \"fbs\": 1, \"restecg\": 2, \"thalach\": 155, \"exang\": 1, \"oldpeak\": 3.1, \"slope\": 2, \"ca\": 0, \"thal\": 2, \"condition\": 1}, {\"age\": 53, \"sex\": 0, \"cp\": 3, \"trestbps\": 130, \"chol\": 264, \"fbs\": 0, \"restecg\": 2, \"thalach\": 143, \"exang\": 0, \"oldpeak\": 0.4, \"slope\": 1, \"ca\": 0, \"thal\": 0, \"condition\": 0}, {\"age\": 53, \"sex\": 1, \"cp\": 3, \"trestbps\": 123, \"chol\": 282, \"fbs\": 0, \"restecg\": 0, \"thalach\": 95, \"exang\": 1, \"oldpeak\": 2.0, \"slope\": 1, \"ca\": 2, \"thal\": 2, \"condition\": 1}, {\"age\": 53, \"sex\": 0, \"cp\": 3, \"trestbps\": 138, \"chol\": 234, \"fbs\": 0, \"restecg\": 2, \"thalach\": 160, \"exang\": 0, \"oldpeak\": 0.0, \"slope\": 0, \"ca\": 0, \"thal\": 0, \"condition\": 0}, {\"age\": 53, \"sex\": 1, \"cp\": 3, \"trestbps\": 142, \"chol\": 226, \"fbs\": 0, \"restecg\": 2, \"thalach\": 111, \"exang\": 1, \"oldpeak\": 0.0, \"slope\": 0, \"ca\": 0, \"thal\": 2, \"condition\": 0}, {\"age\": 52, \"sex\": 1, \"cp\": 3, \"trestbps\": 128, \"chol\": 255, \"fbs\": 0, \"restecg\": 0, \"thalach\": 161, \"exang\": 1, \"oldpeak\": 0.0, \"slope\": 0, \"ca\": 1, \"thal\": 2, \"condition\": 1}, {\"age\": 52, \"sex\": 1, \"cp\": 3, \"trestbps\": 108, \"chol\": 233, \"fbs\": 1, \"restecg\": 0, \"thalach\": 147, \"exang\": 0, \"oldpeak\": 0.1, \"slope\": 0, \"ca\": 3, \"thal\": 2, \"condition\": 0}, {\"age\": 52, \"sex\": 1, \"cp\": 3, \"trestbps\": 112, \"chol\": 230, \"fbs\": 0, \"restecg\": 0, \"thalach\": 160, \"exang\": 0, \"oldpeak\": 0.0, \"slope\": 0, \"ca\": 1, \"thal\": 0, \"condition\": 1}, {\"age\": 52, \"sex\": 1, \"cp\": 3, \"trestbps\": 125, \"chol\": 212, \"fbs\": 0, \"restecg\": 0, \"thalach\": 168, \"exang\": 0, \"oldpeak\": 1.0, \"slope\": 0, \"ca\": 2, \"thal\": 2, \"condition\": 1}, {\"age\": 51, \"sex\": 0, \"cp\": 3, \"trestbps\": 130, \"chol\": 305, \"fbs\": 0, \"restecg\": 0, \"thalach\": 142, \"exang\": 1, \"oldpeak\": 1.2, \"slope\": 1, \"ca\": 0, \"thal\": 2, \"condition\": 1}, {\"age\": 51, \"sex\": 1, \"cp\": 3, \"trestbps\": 140, \"chol\": 298, \"fbs\": 0, \"restecg\": 0, \"thalach\": 122, \"exang\": 1, \"oldpeak\": 4.2, \"slope\": 1, \"ca\": 3, \"thal\": 2, \"condition\": 1}, {\"age\": 51, \"sex\": 1, \"cp\": 3, \"trestbps\": 140, \"chol\": 261, \"fbs\": 0, \"restecg\": 2, \"thalach\": 186, \"exang\": 1, \"oldpeak\": 0.0, \"slope\": 0, \"ca\": 0, \"thal\": 0, \"condition\": 0}, {\"age\": 51, \"sex\": 1, \"cp\": 3, \"trestbps\": 140, \"chol\": 299, \"fbs\": 0, \"restecg\": 0, \"thalach\": 173, \"exang\": 1, \"oldpeak\": 1.6, \"slope\": 0, \"ca\": 0, \"thal\": 2, \"condition\": 1}, {\"age\": 50, \"sex\": 1, \"cp\": 3, \"trestbps\": 150, \"chol\": 243, \"fbs\": 0, \"restecg\": 2, \"thalach\": 128, \"exang\": 0, \"oldpeak\": 2.6, \"slope\": 1, \"ca\": 0, \"thal\": 2, \"condition\": 1}, {\"age\": 50, \"sex\": 1, \"cp\": 3, \"trestbps\": 144, \"chol\": 200, \"fbs\": 0, \"restecg\": 2, \"thalach\": 126, \"exang\": 1, \"oldpeak\": 0.9, \"slope\": 1, \"ca\": 0, \"thal\": 2, \"condition\": 1}, {\"age\": 50, \"sex\": 0, \"cp\": 3, \"trestbps\": 110, \"chol\": 254, \"fbs\": 0, \"restecg\": 2, \"thalach\": 159, \"exang\": 0, \"oldpeak\": 0.0, \"slope\": 0, \"ca\": 0, \"thal\": 0, \"condition\": 0}, {\"age\": 49, \"sex\": 0, \"cp\": 3, \"trestbps\": 130, \"chol\": 269, \"fbs\": 0, \"restecg\": 0, \"thalach\": 163, \"exang\": 0, \"oldpeak\": 0.0, \"slope\": 0, \"ca\": 0, \"thal\": 0, \"condition\": 0}, {\"age\": 48, \"sex\": 1, \"cp\": 3, \"trestbps\": 124, \"chol\": 274, \"fbs\": 0, \"restecg\": 2, \"thalach\": 166, \"exang\": 0, \"oldpeak\": 0.5, \"slope\": 1, \"ca\": 0, \"thal\": 2, \"condition\": 1}, {\"age\": 48, \"sex\": 1, \"cp\": 3, \"trestbps\": 122, \"chol\": 222, \"fbs\": 0, \"restecg\": 2, \"thalach\": 186, \"exang\": 0, \"oldpeak\": 0.0, \"slope\": 0, \"ca\": 0, \"thal\": 0, \"condition\": 0}, {\"age\": 48, \"sex\": 1, \"cp\": 3, \"trestbps\": 130, \"chol\": 256, \"fbs\": 1, \"restecg\": 2, \"thalach\": 150, \"exang\": 1, \"oldpeak\": 0.0, \"slope\": 0, \"ca\": 2, \"thal\": 2, \"condition\": 1}, {\"age\": 47, \"sex\": 1, \"cp\": 3, \"trestbps\": 110, \"chol\": 275, \"fbs\": 0, \"restecg\": 2, \"thalach\": 118, \"exang\": 1, \"oldpeak\": 1.0, \"slope\": 1, \"ca\": 1, \"thal\": 0, \"condition\": 1}, {\"age\": 47, \"sex\": 1, \"cp\": 3, \"trestbps\": 112, \"chol\": 204, \"fbs\": 0, \"restecg\": 0, \"thalach\": 143, \"exang\": 0, \"oldpeak\": 0.1, \"slope\": 0, \"ca\": 0, \"thal\": 0, \"condition\": 0}, {\"age\": 46, \"sex\": 0, \"cp\": 3, \"trestbps\": 138, \"chol\": 243, \"fbs\": 0, \"restecg\": 2, \"thalach\": 152, \"exang\": 1, \"oldpeak\": 0.0, \"slope\": 1, \"ca\": 0, \"thal\": 0, \"condition\": 0}, {\"age\": 46, \"sex\": 1, \"cp\": 3, \"trestbps\": 140, \"chol\": 311, \"fbs\": 0, \"restecg\": 0, \"thalach\": 120, \"exang\": 1, \"oldpeak\": 1.8, \"slope\": 1, \"ca\": 2, \"thal\": 2, \"condition\": 1}, {\"age\": 46, \"sex\": 1, \"cp\": 3, \"trestbps\": 120, \"chol\": 249, \"fbs\": 0, \"restecg\": 2, \"thalach\": 144, \"exang\": 0, \"oldpeak\": 0.8, \"slope\": 0, \"ca\": 0, \"thal\": 2, \"condition\": 1}, {\"age\": 45, \"sex\": 1, \"cp\": 3, \"trestbps\": 104, \"chol\": 208, \"fbs\": 0, \"restecg\": 2, \"thalach\": 148, \"exang\": 1, \"oldpeak\": 3.0, \"slope\": 1, \"ca\": 0, \"thal\": 0, \"condition\": 0}, {\"age\": 45, \"sex\": 0, \"cp\": 3, \"trestbps\": 138, \"chol\": 236, \"fbs\": 0, \"restecg\": 2, \"thalach\": 152, \"exang\": 1, \"oldpeak\": 0.2, \"slope\": 1, \"ca\": 0, \"thal\": 0, \"condition\": 0}, {\"age\": 45, \"sex\": 1, \"cp\": 3, \"trestbps\": 142, \"chol\": 309, \"fbs\": 0, \"restecg\": 2, \"thalach\": 147, \"exang\": 1, \"oldpeak\": 0.0, \"slope\": 1, \"ca\": 3, \"thal\": 2, \"condition\": 1}, {\"age\": 45, \"sex\": 1, \"cp\": 3, \"trestbps\": 115, \"chol\": 260, \"fbs\": 0, \"restecg\": 2, \"thalach\": 185, \"exang\": 0, \"oldpeak\": 0.0, \"slope\": 0, \"ca\": 0, \"thal\": 0, \"condition\": 0}, {\"age\": 44, \"sex\": 1, \"cp\": 3, \"trestbps\": 120, \"chol\": 169, \"fbs\": 0, \"restecg\": 0, \"thalach\": 144, \"exang\": 1, \"oldpeak\": 2.8, \"slope\": 2, \"ca\": 0, \"thal\": 1, \"condition\": 1}, {\"age\": 44, \"sex\": 1, \"cp\": 3, \"trestbps\": 112, \"chol\": 290, \"fbs\": 0, \"restecg\": 2, \"thalach\": 153, \"exang\": 0, \"oldpeak\": 0.0, \"slope\": 0, \"ca\": 1, \"thal\": 0, \"condition\": 1}, {\"age\": 44, \"sex\": 1, \"cp\": 3, \"trestbps\": 110, \"chol\": 197, \"fbs\": 0, \"restecg\": 2, \"thalach\": 177, \"exang\": 0, \"oldpeak\": 0.0, \"slope\": 0, \"ca\": 1, \"thal\": 0, \"condition\": 1}, {\"age\": 43, \"sex\": 1, \"cp\": 3, \"trestbps\": 120, \"chol\": 177, \"fbs\": 0, \"restecg\": 2, \"thalach\": 120, \"exang\": 1, \"oldpeak\": 2.5, \"slope\": 1, \"ca\": 0, \"thal\": 2, \"condition\": 1}, {\"age\": 43, \"sex\": 0, \"cp\": 3, \"trestbps\": 132, \"chol\": 341, \"fbs\": 1, \"restecg\": 2, \"thalach\": 136, \"exang\": 1, \"oldpeak\": 3.0, \"slope\": 1, \"ca\": 0, \"thal\": 2, \"condition\": 1}, {\"age\": 43, \"sex\": 1, \"cp\": 3, \"trestbps\": 115, \"chol\": 303, \"fbs\": 0, \"restecg\": 0, \"thalach\": 181, \"exang\": 0, \"oldpeak\": 1.2, \"slope\": 1, \"ca\": 0, \"thal\": 0, \"condition\": 0}, {\"age\": 43, \"sex\": 1, \"cp\": 3, \"trestbps\": 150, \"chol\": 247, \"fbs\": 0, \"restecg\": 0, \"thalach\": 171, \"exang\": 0, \"oldpeak\": 1.5, \"slope\": 0, \"ca\": 0, \"thal\": 0, \"condition\": 0}, {\"age\": 43, \"sex\": 1, \"cp\": 3, \"trestbps\": 110, \"chol\": 211, \"fbs\": 0, \"restecg\": 0, \"thalach\": 161, \"exang\": 0, \"oldpeak\": 0.0, \"slope\": 0, \"ca\": 0, \"thal\": 2, \"condition\": 0}, {\"age\": 42, \"sex\": 0, \"cp\": 3, \"trestbps\": 102, \"chol\": 265, \"fbs\": 0, \"restecg\": 2, \"thalach\": 122, \"exang\": 0, \"oldpeak\": 0.6, \"slope\": 1, \"ca\": 0, \"thal\": 0, \"condition\": 0}, {\"age\": 42, \"sex\": 1, \"cp\": 3, \"trestbps\": 136, \"chol\": 315, \"fbs\": 0, \"restecg\": 0, \"thalach\": 125, \"exang\": 1, \"oldpeak\": 1.8, \"slope\": 1, \"ca\": 0, \"thal\": 1, \"condition\": 1}, {\"age\": 42, \"sex\": 1, \"cp\": 3, \"trestbps\": 140, \"chol\": 226, \"fbs\": 0, \"restecg\": 0, \"thalach\": 178, \"exang\": 0, \"oldpeak\": 0.0, \"slope\": 0, \"ca\": 0, \"thal\": 0, \"condition\": 0}, {\"age\": 41, \"sex\": 1, \"cp\": 3, \"trestbps\": 110, \"chol\": 172, \"fbs\": 0, \"restecg\": 2, \"thalach\": 158, \"exang\": 0, \"oldpeak\": 0.0, \"slope\": 0, \"ca\": 0, \"thal\": 2, \"condition\": 1}, {\"age\": 40, \"sex\": 1, \"cp\": 3, \"trestbps\": 110, \"chol\": 167, \"fbs\": 0, \"restecg\": 2, \"thalach\": 114, \"exang\": 1, \"oldpeak\": 2.0, \"slope\": 1, \"ca\": 0, \"thal\": 2, \"condition\": 1}, {\"age\": 40, \"sex\": 1, \"cp\": 3, \"trestbps\": 152, \"chol\": 223, \"fbs\": 0, \"restecg\": 0, \"thalach\": 181, \"exang\": 0, \"oldpeak\": 0.0, \"slope\": 0, \"ca\": 0, \"thal\": 2, \"condition\": 1}, {\"age\": 39, \"sex\": 1, \"cp\": 3, \"trestbps\": 118, \"chol\": 219, \"fbs\": 0, \"restecg\": 0, \"thalach\": 140, \"exang\": 0, \"oldpeak\": 1.2, \"slope\": 1, \"ca\": 0, \"thal\": 2, \"condition\": 1}, {\"age\": 35, \"sex\": 1, \"cp\": 3, \"trestbps\": 120, \"chol\": 198, \"fbs\": 0, \"restecg\": 0, \"thalach\": 130, \"exang\": 1, \"oldpeak\": 1.6, \"slope\": 1, \"ca\": 0, \"thal\": 2, \"condition\": 1}, {\"age\": 35, \"sex\": 0, \"cp\": 3, \"trestbps\": 138, \"chol\": 183, \"fbs\": 0, \"restecg\": 0, \"thalach\": 182, \"exang\": 0, \"oldpeak\": 1.4, \"slope\": 0, \"ca\": 0, \"thal\": 0, \"condition\": 0}, {\"age\": 35, \"sex\": 1, \"cp\": 3, \"trestbps\": 126, \"chol\": 282, \"fbs\": 0, \"restecg\": 2, \"thalach\": 156, \"exang\": 1, \"oldpeak\": 0.0, \"slope\": 0, \"ca\": 0, \"thal\": 2, \"condition\": 1}]\n"
     ]
    }
   ],
   "source": [
    "print(json.dumps(b))"
   ]
  },
  {
   "cell_type": "code",
   "execution_count": 113,
   "metadata": {},
   "outputs": [
    {
     "data": {
      "text/html": [
       "<div>\n",
       "<style scoped>\n",
       "    .dataframe tbody tr th:only-of-type {\n",
       "        vertical-align: middle;\n",
       "    }\n",
       "\n",
       "    .dataframe tbody tr th {\n",
       "        vertical-align: top;\n",
       "    }\n",
       "\n",
       "    .dataframe thead th {\n",
       "        text-align: right;\n",
       "    }\n",
       "</style>\n",
       "<table border=\"1\" class=\"dataframe\">\n",
       "  <thead>\n",
       "    <tr style=\"text-align: right;\">\n",
       "      <th></th>\n",
       "      <th>condition</th>\n",
       "    </tr>\n",
       "  </thead>\n",
       "  <tbody>\n",
       "    <tr>\n",
       "      <th>0</th>\n",
       "      <td>0</td>\n",
       "    </tr>\n",
       "  </tbody>\n",
       "</table>\n",
       "</div>"
      ],
      "text/plain": [
       "   condition\n",
       "0          0"
      ]
     },
     "execution_count": 113,
     "metadata": {},
     "output_type": "execute_result"
    }
   ],
   "source": [
    "q[['condition']]"
   ]
  },
  {
   "cell_type": "code",
   "execution_count": 92,
   "metadata": {},
   "outputs": [
    {
     "data": {
      "text/plain": [
       "[{'age': 0,\n",
       "  'sex': 0,\n",
       "  'cp': 0,\n",
       "  'chol': 0,\n",
       "  'fbs': 0,\n",
       "  'restecg': 0,\n",
       "  'thalach': 0,\n",
       "  'exang': 0,\n",
       "  'oldpeak': 0.0,\n",
       "  'slope': 0,\n",
       "  'ca': 0,\n",
       "  'thal': 0}]"
      ]
     },
     "execution_count": 92,
     "metadata": {},
     "output_type": "execute_result"
    }
   ],
   "source": [
    "features_data.to_dict(orient='records')"
   ]
  },
  {
   "cell_type": "code",
   "execution_count": 94,
   "metadata": {},
   "outputs": [],
   "source": [
    "w = Features(**features_data.to_dict(orient='records')[0])"
   ]
  },
  {
   "cell_type": "code",
   "execution_count": 95,
   "metadata": {},
   "outputs": [
    {
     "name": "stdout",
     "output_type": "stream",
     "text": [
      "age=0 sex=0 cp=0 chol=0 fbs=0 restecg=0 thalach=0 exang=0 oldpeak=0.0 slope=0 ca=0 thal=0\n"
     ]
    }
   ],
   "source": [
    "print(w)"
   ]
  },
  {
   "cell_type": "code",
   "execution_count": 2,
   "metadata": {},
   "outputs": [
    {
     "name": "stdout",
     "output_type": "stream",
     "text": [
      "Collecting gdown\n",
      "  Downloading gdown-4.5.4-py3-none-any.whl (14 kB)\n",
      "Requirement already satisfied: filelock in c:\\users\\user\\appdata\\local\\programs\\python\\python311\\lib\\site-packages (from gdown) (3.8.0)\n",
      "Requirement already satisfied: requests[socks] in c:\\users\\user\\appdata\\local\\programs\\python\\python311\\lib\\site-packages (from gdown) (2.28.1)\n",
      "Requirement already satisfied: six in c:\\users\\user\\appdata\\local\\programs\\python\\python311\\lib\\site-packages (from gdown) (1.16.0)\n",
      "Requirement already satisfied: tqdm in c:\\users\\user\\appdata\\local\\programs\\python\\python311\\lib\\site-packages (from gdown) (4.64.1)\n",
      "Requirement already satisfied: beautifulsoup4 in c:\\users\\user\\appdata\\local\\programs\\python\\python311\\lib\\site-packages (from gdown) (4.11.1)\n",
      "Requirement already satisfied: soupsieve>1.2 in c:\\users\\user\\appdata\\local\\programs\\python\\python311\\lib\\site-packages (from beautifulsoup4->gdown) (2.3.2.post1)\n",
      "Requirement already satisfied: charset-normalizer<3,>=2 in c:\\users\\user\\appdata\\local\\programs\\python\\python311\\lib\\site-packages (from requests[socks]->gdown) (2.1.1)\n",
      "Requirement already satisfied: idna<4,>=2.5 in c:\\users\\user\\appdata\\local\\programs\\python\\python311\\lib\\site-packages (from requests[socks]->gdown) (3.4)\n",
      "Requirement already satisfied: urllib3<1.27,>=1.21.1 in c:\\users\\user\\appdata\\local\\programs\\python\\python311\\lib\\site-packages (from requests[socks]->gdown) (1.26.12)\n",
      "Requirement already satisfied: certifi>=2017.4.17 in c:\\users\\user\\appdata\\local\\programs\\python\\python311\\lib\\site-packages (from requests[socks]->gdown) (2022.9.24)\n",
      "Collecting PySocks!=1.5.7,>=1.5.6\n",
      "  Downloading PySocks-1.7.1-py3-none-any.whl (16 kB)\n",
      "Requirement already satisfied: colorama in c:\\users\\user\\appdata\\local\\programs\\python\\python311\\lib\\site-packages (from tqdm->gdown) (0.4.6)\n",
      "Installing collected packages: PySocks, gdown\n",
      "Successfully installed PySocks-1.7.1 gdown-4.5.4\n",
      "Note: you may need to restart the kernel to use updated packages.\n"
     ]
    }
   ],
   "source": [
    "pip install gdown\n"
   ]
  },
  {
   "cell_type": "code",
   "execution_count": 8,
   "metadata": {},
   "outputs": [],
   "source": [
    "import gdown"
   ]
  },
  {
   "cell_type": "code",
   "execution_count": 17,
   "metadata": {},
   "outputs": [
    {
     "name": "stdout",
     "output_type": "stream",
     "text": [
      "False\n"
     ]
    }
   ],
   "source": [
    "print(os.path.exists(\"online_inference/model/models/online_model.pkl))"
   ]
  },
  {
   "cell_type": "code",
   "execution_count": 20,
   "metadata": {},
   "outputs": [
    {
     "name": "stderr",
     "output_type": "stream",
     "text": [
      "c:\\Users\\user\\AppData\\Local\\Programs\\Python\\Python311\\Lib\\site-packages\\gdown\\parse_url.py:35: UserWarning: You specified a Google Drive link that is not the correct link to download a file. You might want to try `--fuzzy` option or the following url: https://drive.google.com/uc?id=None\n",
      "  warnings.warn(\n",
      "Downloading...\n",
      "From: https://drive.google.com/file/d/144P3_g0FHmyW6QScOB0E9Hx5Z46_wkWQ\n",
      "To: c:\\Users\\user\\Desktop\\made\\MLOps\\online_inference\\data\\online_model.pkl\n",
      "70.8kB [00:00, 17.7MB/s]\n"
     ]
    },
    {
     "data": {
      "text/plain": [
       "'online_model.pkl'"
      ]
     },
     "execution_count": 20,
     "metadata": {},
     "output_type": "execute_result"
    }
   ],
   "source": [
    "gdown.download(\"https://drive.google.com/file/d/144P3_g0FHmyW6QScOB0E9Hx5Z46_wkWQ\",\"online_model.pkl\", quiet=False)"
   ]
  },
  {
   "cell_type": "code",
   "execution_count": 9,
   "metadata": {},
   "outputs": [
    {
     "name": "stdout",
     "output_type": "stream",
     "text": [
      "   Unnamed: 0  age  sex  cp  trestbps  ...    oldpeak  slope  ca  thal  condition\n",
      "0           0   44    0   3        67  ...  79.172504      1   2     2          1\n",
      "1           1   47    1   3         9  ...  52.889492      0   2     0          0\n",
      "\n",
      "[2 rows x 15 columns]\n"
     ]
    }
   ],
   "source": [
    "import pandas as pd \n",
    "from DataSynthesizer.DataDescriber import DataDescriber\n",
    "from DataSynthesizer.DataGenerator import DataGenerator\n",
    "from DataSynthesizer.ModelInspector import ModelInspector\n",
    "from DataSynthesizer.lib.utils import read_json_file, display_bayesian_network\n",
    "\n",
    "example_data = pd.read_csv('raw/heart_cleveland_upload.csv')\n",
    " \n",
    "dataset_path = 'raw/sample_data.csv'\n",
    "mode = 'random_mode'\n",
    "threshold_value = 20\n",
    "description_file = 'raw/description_file'\n",
    "example_data.to_csv(dataset_path)\n",
    "describer = DataDescriber(category_threshold=threshold_value)\n",
    "describer.describe_dataset_in_random_mode(dataset_path)\n",
    "describer.save_dataset_description_to_file(description_file)\n",
    "generator = DataGenerator()\n",
    "generator.generate_dataset_in_random_mode(2, description_file)\n",
    "ans =  generator.synthetic_dataset\n",
    "print(ans)\n"
   ]
  }
 ],
 "metadata": {
  "kernelspec": {
   "display_name": "Python 3.11.0 64-bit",
   "language": "python",
   "name": "python3"
  },
  "language_info": {
   "codemirror_mode": {
    "name": "ipython",
    "version": 3
   },
   "file_extension": ".py",
   "mimetype": "text/x-python",
   "name": "python",
   "nbconvert_exporter": "python",
   "pygments_lexer": "ipython3",
   "version": "3.11.0"
  },
  "orig_nbformat": 4,
  "vscode": {
   "interpreter": {
    "hash": "de47f5c92c0ee6f12a59a5613ac5feff6aab19ddff207ba0b3964cced08c4ccc"
   }
  }
 },
 "nbformat": 4,
 "nbformat_minor": 2
}
