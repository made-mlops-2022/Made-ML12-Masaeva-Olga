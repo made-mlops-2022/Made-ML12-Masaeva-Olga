{
 "cells": [
  {
   "cell_type": "code",
   "execution_count": 21,
   "metadata": {},
   "outputs": [],
   "source": [
    "'''libraries import'''\n",
    "import pandas as pd\n",
    "import seaborn as sns\n",
    "import matplotlib.pyplot as plt\n",
    "from sklearn.model_selection import train_test_split\n",
    "\n",
    "from sklearn.linear_model import LogisticRegression\n",
    "from sklearn.neighbors import KNeighborsClassifier\n",
    "from sklearn.ensemble import RandomForestClassifier\n",
    "\n",
    "\n",
    "from sklearn.metrics import accuracy_score, precision_score, recall_score, roc_auc_score\n",
    "from sklearn.metrics import f1_score, confusion_matrix, precision_recall_curve, roc_curve\n",
    "# Model Evaluation\n",
    "\n",
    "from sklearn.model_selection import train_test_split, cross_val_score,RandomizedSearchCV, GridSearchCV\n",
    "from sklearn.metrics import confusion_matrix, classification_report, precision_score,f1_score\n",
    "from sklearn.metrics import recall_score"
   ]
  },
  {
   "cell_type": "code",
   "execution_count": 3,
   "metadata": {},
   "outputs": [],
   "source": [
    "file_name =  \"../data/raw/heart_cleveland_upload.csv\"\n",
    "df =  pd.read_csv(file_name)"
   ]
  },
  {
   "cell_type": "code",
   "execution_count": 5,
   "metadata": {},
   "outputs": [],
   "source": [
    "target = df['condition']\n",
    "features =  df.iloc[:,:-1]"
   ]
  },
  {
   "cell_type": "markdown",
   "metadata": {},
   "source": [
    "## train-test split"
   ]
  },
  {
   "cell_type": "code",
   "execution_count": 9,
   "metadata": {},
   "outputs": [],
   "source": [
    "x_train, x_test, y_train, y_test = train_test_split(features, target, test_size=0.2,random_state=1)"
   ]
  },
  {
   "cell_type": "code",
   "execution_count": 10,
   "metadata": {},
   "outputs": [
    {
     "name": "stdout",
     "output_type": "stream",
     "text": [
      "X_train- 3081\n",
      "X_test- 780\n",
      "y_train- 237\n",
      "y_test- 60\n"
     ]
    }
   ],
   "source": [
    "print('X_train-', x_train.size)\n",
    "print('X_test-',x_test.size)\n",
    "print('y_train-', y_train.size)\n",
    "print('y_test-', y_test.size)"
   ]
  },
  {
   "cell_type": "markdown",
   "metadata": {},
   "source": [
    "## Modelling"
   ]
  },
  {
   "cell_type": "code",
   "execution_count": 19,
   "metadata": {
    "collapsed": true
   },
   "outputs": [],
   "source": [
    "#  Функция для подсчета метрик\n",
    "def get_clf_eval(y_test, y_pred):\n",
    "    confusion = confusion_matrix(y_test, y_pred)\n",
    "    accuracy = accuracy_score(y_test, y_pred)\n",
    "    precision = precision_score(y_test, y_pred)\n",
    "    recall = recall_score(y_test, y_pred)\n",
    "    F1 = f1_score(y_test, y_pred)\n",
    "    AUC = roc_auc_score(y_test, y_pred)\n",
    "    \n",
    "    print('Confusion_matrix:\\n', confusion)\n",
    "    print('Accuracy: {:.4f}'.format(accuracy))\n",
    "    print('Precision: {:.4f}'.format(precision))\n",
    "    print('Recall: {:.4f}'.format(recall))\n",
    "    print('F1: {:.4f}'.format(F1))\n",
    "    print('AUC: {:.4f}'.format(AUC))"
   ]
  },
  {
   "cell_type": "code",
   "execution_count": 23,
   "metadata": {},
   "outputs": [],
   "source": [
    "models = {'Logistic Regression': LogisticRegression(),\n",
    "         'KNN': KNeighborsClassifier(),\n",
    "         'Random Forest' : RandomForestClassifier()}\n",
    "\n",
    "def fit_and_score(models, x_train, y_train, x_test, y_test):\n",
    "    model_scores = {}\n",
    "    for name,model in models.items():\n",
    "        print(type(model))\n",
    "        model.fit(x_train,y_train)\n",
    "        q = model.predict(x_test)\n",
    "        get_clf_eval(q, y_test)\n",
    "    return model_scores"
   ]
  },
  {
   "cell_type": "code",
   "execution_count": 24,
   "metadata": {},
   "outputs": [
    {
     "name": "stdout",
     "output_type": "stream",
     "text": [
      "<class 'sklearn.linear_model.logistic.LogisticRegression'>\n",
      "Confusion_matrix:\n",
      " [[27  3]\n",
      " [ 5 25]]\n",
      "Accuracy: 0.8667\n",
      "Precision: 0.8929\n",
      "Recall: 0.8333\n",
      "F1: 0.8621\n",
      "AUC: 0.8667\n",
      "<class 'sklearn.neighbors.classification.KNeighborsClassifier'>\n",
      "Confusion_matrix:\n",
      " [[22 10]\n",
      " [10 18]]\n",
      "Accuracy: 0.6667\n",
      "Precision: 0.6429\n",
      "Recall: 0.6429\n",
      "F1: 0.6429\n",
      "AUC: 0.6652\n",
      "<class 'sklearn.ensemble.forest.RandomForestClassifier'>\n",
      "Confusion_matrix:\n",
      " [[27  4]\n",
      " [ 5 24]]\n",
      "Accuracy: 0.8500\n",
      "Precision: 0.8571\n",
      "Recall: 0.8276\n",
      "F1: 0.8421\n",
      "AUC: 0.8493\n"
     ]
    },
    {
     "data": {
      "text/plain": [
       "{}"
      ]
     },
     "execution_count": 24,
     "metadata": {},
     "output_type": "execute_result"
    }
   ],
   "source": [
    "fit_and_score(models,x_train = x_train, y_train = y_train,x_test = x_test, y_test = y_test)\n"
   ]
  },
  {
   "cell_type": "code",
   "execution_count": null,
   "metadata": {
    "collapsed": true
   },
   "outputs": [],
   "source": []
  }
 ],
 "metadata": {
  "kernelspec": {
   "display_name": "Python 3",
   "language": "python",
   "name": "python3"
  },
  "language_info": {
   "codemirror_mode": {
    "name": "ipython",
    "version": 3
   },
   "file_extension": ".py",
   "mimetype": "text/x-python",
   "name": "python",
   "nbconvert_exporter": "python",
   "pygments_lexer": "ipython3",
   "version": "3.6.2"
  }
 },
 "nbformat": 4,
 "nbformat_minor": 2
}
